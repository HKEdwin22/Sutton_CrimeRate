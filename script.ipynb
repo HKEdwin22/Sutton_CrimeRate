{
 "cells": [
  {
   "cell_type": "markdown",
   "id": "59cb1bb5",
   "metadata": {},
   "source": [
    "# Task 1\n",
    "We use the data from Metropolitican Police to visualise crime rate in Sutton and its neighborhood.\n",
    "\n",
    "## Flow\n",
    "1. Import Libraries <br>\n",
    "2. Import raw data <br>\n",
    "3. Extract data in concern <br>\n",
    "4. Plot a pie chart with online code <br>\n",
    "5. Amend the chart"
   ]
  },
  {
   "cell_type": "code",
   "execution_count": 86,
   "id": "35d877b2",
   "metadata": {},
   "outputs": [],
   "source": [
    "# Import Libraries\n",
    "from math import pi\n",
    "import pandas as pd\n",
    "from bokeh.palettes import Turbo256 # RGB colors\n",
    "from bokeh.plotting import figure, show # embed all elements of a graph\n",
    "from bokeh.transform import cumsum # not yet known"
   ]
  },
  {
   "cell_type": "code",
   "execution_count": 87,
   "id": "84d72d2f",
   "metadata": {},
   "outputs": [],
   "source": [
    "# Import raw data\n",
    "df = pd.read_excel(r'./Raw Data.xlsx')"
   ]
  },
  {
   "cell_type": "code",
   "execution_count": 120,
   "id": "fbe90497",
   "metadata": {},
   "outputs": [],
   "source": [
    "# Extract data in concern\n",
    "data4plot = df.loc[:19, ['Neighborhood', 'Total']]\n",
    "x = data4plot['Total']"
   ]
  },
  {
   "cell_type": "markdown",
   "id": "a426eaba",
   "metadata": {},
   "source": [
    "## Basic of the chart"
   ]
  },
  {
   "cell_type": "code",
   "execution_count": 121,
   "id": "789964b3",
   "metadata": {},
   "outputs": [],
   "source": [
    "data4plot['angle'] = data4plot['Total']/data4plot['Total'].sum() * 2*pi\n",
    "c = [Turbo256[i*10] for i in range(len(x))]\n",
    "data4plot['color'] = pd.DataFrame(c)"
   ]
  },
  {
   "cell_type": "markdown",
   "id": "b106c268",
   "metadata": {},
   "source": [
    "## Pie Chart 1"
   ]
  },
  {
   "cell_type": "code",
   "execution_count": 122,
   "id": "6d88b03e",
   "metadata": {},
   "outputs": [],
   "source": [
    "# Plot a pie chart\n",
    "p = figure(title=\"Number of Burglary among Neighborhoods\", toolbar_location=None,\n",
    "           tools=\"hover\", tooltips=\"@Neighborhood: @Total\", plot_height=525, plot_width=700, x_range=(-0.57, 1.2))\n",
    "\n",
    "p.wedge(x=0, y=1, radius=0.5,\n",
    "        start_angle=cumsum('angle', include_zero=True), end_angle=cumsum('angle'),\n",
    "        line_color=\"white\", fill_color='color', legend_field='Neighborhood', source=data4plot)\n",
    "\n",
    "p.axis.axis_label = None\n",
    "p.axis.visible = False\n",
    "p.grid.grid_line_color = None\n",
    "\n",
    "show(p)"
   ]
  },
  {
   "cell_type": "markdown",
   "id": "0494b482",
   "metadata": {},
   "source": [
    "## Pie Char 2"
   ]
  },
  {
   "cell_type": "code",
   "execution_count": 125,
   "id": "85e00cff",
   "metadata": {},
   "outputs": [],
   "source": [
    "# Plot a pie chart\n",
    "p = figure(toolbar_location=None, tools=\"hover\", tooltips=\"@Neighborhood: @Total\", \n",
    "           plot_height=540, plot_width=700, x_range=(-0.57, 1.2))\n",
    "\n",
    "p.title.text = \"Number of Burglary among Neighborhoods\"\n",
    "p.title.align = 'center'\n",
    "p.title.text_font_size = \"22px\"\n",
    "\n",
    "p.wedge(x=0, y=1, radius=0.5,\n",
    "        start_angle=cumsum('angle', include_zero=True), end_angle=cumsum('angle'),\n",
    "        line_color=\"white\", fill_color='color', legend_field='Neighborhood', source=data4plot)\n",
    "\n",
    "p.axis.axis_label = None\n",
    "p.axis.visible = False\n",
    "p.grid.grid_line_color = None\n",
    "\n",
    "show(p)"
   ]
  },
  {
   "cell_type": "markdown",
   "id": "7f8393e7",
   "metadata": {},
   "source": [
    "## Conclusions\n",
    "Our chart shows that the number of burglary was distributed uniformly among Sutton's neighborhood.\n",
    "\n",
    "# Task 2\n",
    "Now, let see if there are trends on the number in each neighborhood.\n",
    "\n",
    "## Flow\n",
    "1. Extract data\n",
    "2. Plot line chart with online code\n",
    "3. Amend the chart"
   ]
  }
 ],
 "metadata": {
  "kernelspec": {
   "display_name": "Python 3 (ipykernel)",
   "language": "python",
   "name": "python3"
  },
  "language_info": {
   "codemirror_mode": {
    "name": "ipython",
    "version": 3
   },
   "file_extension": ".py",
   "mimetype": "text/x-python",
   "name": "python",
   "nbconvert_exporter": "python",
   "pygments_lexer": "ipython3",
   "version": "3.9.7"
  }
 },
 "nbformat": 4,
 "nbformat_minor": 5
}
