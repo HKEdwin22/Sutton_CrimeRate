{
 "cells": [
  {
   "cell_type": "markdown",
   "id": "59cb1bb5",
   "metadata": {},
   "source": [
    "# Task 1\n",
    "We use the data from Metropolitican Police to visualise crime rate in Sutton and its neighborhood.\n",
    "\n",
    "## Flow\n",
    "1. Import Libraries <br>\n",
    "2. Import raw data <br>\n",
    "3. Extract data in concern <br>\n",
    "4. Plot a pie chart with online code <br>\n",
    "5. Amend the chart"
   ]
  },
  {
   "cell_type": "code",
   "execution_count": 9,
   "id": "35d877b2",
   "metadata": {},
   "outputs": [
    {
     "data": {
      "text/html": [
       "\n",
       "    <div class=\"bk-root\">\n",
       "        <a href=\"https://bokeh.org\" target=\"_blank\" class=\"bk-logo bk-logo-small bk-logo-notebook\"></a>\n",
       "        <span id=\"1003\">Loading BokehJS ...</span>\n",
       "    </div>"
      ]
     },
     "metadata": {},
     "output_type": "display_data"
    },
    {
     "data": {
      "application/javascript": [
       "\n",
       "(function(root) {\n",
       "  function now() {\n",
       "    return new Date();\n",
       "  }\n",
       "\n",
       "  const force = true;\n",
       "\n",
       "  if (typeof root._bokeh_onload_callbacks === \"undefined\" || force === true) {\n",
       "    root._bokeh_onload_callbacks = [];\n",
       "    root._bokeh_is_loading = undefined;\n",
       "  }\n",
       "\n",
       "  const JS_MIME_TYPE = 'application/javascript';\n",
       "  const HTML_MIME_TYPE = 'text/html';\n",
       "  const EXEC_MIME_TYPE = 'application/vnd.bokehjs_exec.v0+json';\n",
       "  const CLASS_NAME = 'output_bokeh rendered_html';\n",
       "\n",
       "  /**\n",
       "   * Render data to the DOM node\n",
       "   */\n",
       "  function render(props, node) {\n",
       "    const script = document.createElement(\"script\");\n",
       "    node.appendChild(script);\n",
       "  }\n",
       "\n",
       "  /**\n",
       "   * Handle when an output is cleared or removed\n",
       "   */\n",
       "  function handleClearOutput(event, handle) {\n",
       "    const cell = handle.cell;\n",
       "\n",
       "    const id = cell.output_area._bokeh_element_id;\n",
       "    const server_id = cell.output_area._bokeh_server_id;\n",
       "    // Clean up Bokeh references\n",
       "    if (id != null && id in Bokeh.index) {\n",
       "      Bokeh.index[id].model.document.clear();\n",
       "      delete Bokeh.index[id];\n",
       "    }\n",
       "\n",
       "    if (server_id !== undefined) {\n",
       "      // Clean up Bokeh references\n",
       "      const cmd_clean = \"from bokeh.io.state import curstate; print(curstate().uuid_to_server['\" + server_id + \"'].get_sessions()[0].document.roots[0]._id)\";\n",
       "      cell.notebook.kernel.execute(cmd_clean, {\n",
       "        iopub: {\n",
       "          output: function(msg) {\n",
       "            const id = msg.content.text.trim();\n",
       "            if (id in Bokeh.index) {\n",
       "              Bokeh.index[id].model.document.clear();\n",
       "              delete Bokeh.index[id];\n",
       "            }\n",
       "          }\n",
       "        }\n",
       "      });\n",
       "      // Destroy server and session\n",
       "      const cmd_destroy = \"import bokeh.io.notebook as ion; ion.destroy_server('\" + server_id + \"')\";\n",
       "      cell.notebook.kernel.execute(cmd_destroy);\n",
       "    }\n",
       "  }\n",
       "\n",
       "  /**\n",
       "   * Handle when a new output is added\n",
       "   */\n",
       "  function handleAddOutput(event, handle) {\n",
       "    const output_area = handle.output_area;\n",
       "    const output = handle.output;\n",
       "\n",
       "    // limit handleAddOutput to display_data with EXEC_MIME_TYPE content only\n",
       "    if ((output.output_type != \"display_data\") || (!Object.prototype.hasOwnProperty.call(output.data, EXEC_MIME_TYPE))) {\n",
       "      return\n",
       "    }\n",
       "\n",
       "    const toinsert = output_area.element.find(\".\" + CLASS_NAME.split(' ')[0]);\n",
       "\n",
       "    if (output.metadata[EXEC_MIME_TYPE][\"id\"] !== undefined) {\n",
       "      toinsert[toinsert.length - 1].firstChild.textContent = output.data[JS_MIME_TYPE];\n",
       "      // store reference to embed id on output_area\n",
       "      output_area._bokeh_element_id = output.metadata[EXEC_MIME_TYPE][\"id\"];\n",
       "    }\n",
       "    if (output.metadata[EXEC_MIME_TYPE][\"server_id\"] !== undefined) {\n",
       "      const bk_div = document.createElement(\"div\");\n",
       "      bk_div.innerHTML = output.data[HTML_MIME_TYPE];\n",
       "      const script_attrs = bk_div.children[0].attributes;\n",
       "      for (let i = 0; i < script_attrs.length; i++) {\n",
       "        toinsert[toinsert.length - 1].firstChild.setAttribute(script_attrs[i].name, script_attrs[i].value);\n",
       "        toinsert[toinsert.length - 1].firstChild.textContent = bk_div.children[0].textContent\n",
       "      }\n",
       "      // store reference to server id on output_area\n",
       "      output_area._bokeh_server_id = output.metadata[EXEC_MIME_TYPE][\"server_id\"];\n",
       "    }\n",
       "  }\n",
       "\n",
       "  function register_renderer(events, OutputArea) {\n",
       "\n",
       "    function append_mime(data, metadata, element) {\n",
       "      // create a DOM node to render to\n",
       "      const toinsert = this.create_output_subarea(\n",
       "        metadata,\n",
       "        CLASS_NAME,\n",
       "        EXEC_MIME_TYPE\n",
       "      );\n",
       "      this.keyboard_manager.register_events(toinsert);\n",
       "      // Render to node\n",
       "      const props = {data: data, metadata: metadata[EXEC_MIME_TYPE]};\n",
       "      render(props, toinsert[toinsert.length - 1]);\n",
       "      element.append(toinsert);\n",
       "      return toinsert\n",
       "    }\n",
       "\n",
       "    /* Handle when an output is cleared or removed */\n",
       "    events.on('clear_output.CodeCell', handleClearOutput);\n",
       "    events.on('delete.Cell', handleClearOutput);\n",
       "\n",
       "    /* Handle when a new output is added */\n",
       "    events.on('output_added.OutputArea', handleAddOutput);\n",
       "\n",
       "    /**\n",
       "     * Register the mime type and append_mime function with output_area\n",
       "     */\n",
       "    OutputArea.prototype.register_mime_type(EXEC_MIME_TYPE, append_mime, {\n",
       "      /* Is output safe? */\n",
       "      safe: true,\n",
       "      /* Index of renderer in `output_area.display_order` */\n",
       "      index: 0\n",
       "    });\n",
       "  }\n",
       "\n",
       "  // register the mime type if in Jupyter Notebook environment and previously unregistered\n",
       "  if (root.Jupyter !== undefined) {\n",
       "    const events = require('base/js/events');\n",
       "    const OutputArea = require('notebook/js/outputarea').OutputArea;\n",
       "\n",
       "    if (OutputArea.prototype.mime_types().indexOf(EXEC_MIME_TYPE) == -1) {\n",
       "      register_renderer(events, OutputArea);\n",
       "    }\n",
       "  }\n",
       "\n",
       "  \n",
       "  if (typeof (root._bokeh_timeout) === \"undefined\" || force === true) {\n",
       "    root._bokeh_timeout = Date.now() + 5000;\n",
       "    root._bokeh_failed_load = false;\n",
       "  }\n",
       "\n",
       "  const NB_LOAD_WARNING = {'data': {'text/html':\n",
       "     \"<div style='background-color: #fdd'>\\n\"+\n",
       "     \"<p>\\n\"+\n",
       "     \"BokehJS does not appear to have successfully loaded. If loading BokehJS from CDN, this \\n\"+\n",
       "     \"may be due to a slow or bad network connection. Possible fixes:\\n\"+\n",
       "     \"</p>\\n\"+\n",
       "     \"<ul>\\n\"+\n",
       "     \"<li>re-rerun `output_notebook()` to attempt to load from CDN again, or</li>\\n\"+\n",
       "     \"<li>use INLINE resources instead, as so:</li>\\n\"+\n",
       "     \"</ul>\\n\"+\n",
       "     \"<code>\\n\"+\n",
       "     \"from bokeh.resources import INLINE\\n\"+\n",
       "     \"output_notebook(resources=INLINE)\\n\"+\n",
       "     \"</code>\\n\"+\n",
       "     \"</div>\"}};\n",
       "\n",
       "  function display_loaded() {\n",
       "    const el = document.getElementById(\"1003\");\n",
       "    if (el != null) {\n",
       "      el.textContent = \"BokehJS is loading...\";\n",
       "    }\n",
       "    if (root.Bokeh !== undefined) {\n",
       "      if (el != null) {\n",
       "        el.textContent = \"BokehJS \" + root.Bokeh.version + \" successfully loaded.\";\n",
       "      }\n",
       "    } else if (Date.now() < root._bokeh_timeout) {\n",
       "      setTimeout(display_loaded, 100)\n",
       "    }\n",
       "  }\n",
       "\n",
       "\n",
       "  function run_callbacks() {\n",
       "    try {\n",
       "      root._bokeh_onload_callbacks.forEach(function(callback) {\n",
       "        if (callback != null)\n",
       "          callback();\n",
       "      });\n",
       "    } finally {\n",
       "      delete root._bokeh_onload_callbacks\n",
       "    }\n",
       "    console.debug(\"Bokeh: all callbacks have finished\");\n",
       "  }\n",
       "\n",
       "  function load_libs(css_urls, js_urls, callback) {\n",
       "    if (css_urls == null) css_urls = [];\n",
       "    if (js_urls == null) js_urls = [];\n",
       "\n",
       "    root._bokeh_onload_callbacks.push(callback);\n",
       "    if (root._bokeh_is_loading > 0) {\n",
       "      console.debug(\"Bokeh: BokehJS is being loaded, scheduling callback at\", now());\n",
       "      return null;\n",
       "    }\n",
       "    if (js_urls == null || js_urls.length === 0) {\n",
       "      run_callbacks();\n",
       "      return null;\n",
       "    }\n",
       "    console.debug(\"Bokeh: BokehJS not loaded, scheduling load and callback at\", now());\n",
       "    root._bokeh_is_loading = css_urls.length + js_urls.length;\n",
       "\n",
       "    function on_load() {\n",
       "      root._bokeh_is_loading--;\n",
       "      if (root._bokeh_is_loading === 0) {\n",
       "        console.debug(\"Bokeh: all BokehJS libraries/stylesheets loaded\");\n",
       "        run_callbacks()\n",
       "      }\n",
       "    }\n",
       "\n",
       "    function on_error(url) {\n",
       "      console.error(\"failed to load \" + url);\n",
       "    }\n",
       "\n",
       "    for (let i = 0; i < css_urls.length; i++) {\n",
       "      const url = css_urls[i];\n",
       "      const element = document.createElement(\"link\");\n",
       "      element.onload = on_load;\n",
       "      element.onerror = on_error.bind(null, url);\n",
       "      element.rel = \"stylesheet\";\n",
       "      element.type = \"text/css\";\n",
       "      element.href = url;\n",
       "      console.debug(\"Bokeh: injecting link tag for BokehJS stylesheet: \", url);\n",
       "      document.body.appendChild(element);\n",
       "    }\n",
       "\n",
       "    for (let i = 0; i < js_urls.length; i++) {\n",
       "      const url = js_urls[i];\n",
       "      const element = document.createElement('script');\n",
       "      element.onload = on_load;\n",
       "      element.onerror = on_error.bind(null, url);\n",
       "      element.async = false;\n",
       "      element.src = url;\n",
       "      console.debug(\"Bokeh: injecting script tag for BokehJS library: \", url);\n",
       "      document.head.appendChild(element);\n",
       "    }\n",
       "  };\n",
       "\n",
       "  function inject_raw_css(css) {\n",
       "    const element = document.createElement(\"style\");\n",
       "    element.appendChild(document.createTextNode(css));\n",
       "    document.body.appendChild(element);\n",
       "  }\n",
       "\n",
       "  \n",
       "  const js_urls = [\"https://cdn.bokeh.org/bokeh/release/bokeh-2.4.1.min.js\", \"https://cdn.bokeh.org/bokeh/release/bokeh-gl-2.4.1.min.js\", \"https://cdn.bokeh.org/bokeh/release/bokeh-widgets-2.4.1.min.js\", \"https://cdn.bokeh.org/bokeh/release/bokeh-tables-2.4.1.min.js\", \"https://cdn.bokeh.org/bokeh/release/bokeh-mathjax-2.4.1.min.js\"];\n",
       "  const css_urls = [];\n",
       "  \n",
       "\n",
       "  const inline_js = [\n",
       "    function(Bokeh) {\n",
       "      Bokeh.set_log_level(\"info\");\n",
       "    },\n",
       "    function(Bokeh) {\n",
       "    \n",
       "    \n",
       "    }\n",
       "  ];\n",
       "\n",
       "  function run_inline_js() {\n",
       "    \n",
       "    if (root.Bokeh !== undefined || force === true) {\n",
       "      \n",
       "    for (let i = 0; i < inline_js.length; i++) {\n",
       "      inline_js[i].call(root, root.Bokeh);\n",
       "    }\n",
       "    if (force === true) {\n",
       "        display_loaded();\n",
       "      }} else if (Date.now() < root._bokeh_timeout) {\n",
       "      setTimeout(run_inline_js, 100);\n",
       "    } else if (!root._bokeh_failed_load) {\n",
       "      console.log(\"Bokeh: BokehJS failed to load within specified timeout.\");\n",
       "      root._bokeh_failed_load = true;\n",
       "    } else if (force !== true) {\n",
       "      const cell = $(document.getElementById(\"1003\")).parents('.cell').data().cell;\n",
       "      cell.output_area.append_execute_result(NB_LOAD_WARNING)\n",
       "    }\n",
       "\n",
       "  }\n",
       "\n",
       "  if (root._bokeh_is_loading === 0) {\n",
       "    console.debug(\"Bokeh: BokehJS loaded, going straight to plotting\");\n",
       "    run_inline_js();\n",
       "  } else {\n",
       "    load_libs(css_urls, js_urls, function() {\n",
       "      console.debug(\"Bokeh: BokehJS plotting callback run at\", now());\n",
       "      run_inline_js();\n",
       "    });\n",
       "  }\n",
       "}(window));"
      ],
      "application/vnd.bokehjs_load.v0+json": "\n(function(root) {\n  function now() {\n    return new Date();\n  }\n\n  const force = true;\n\n  if (typeof root._bokeh_onload_callbacks === \"undefined\" || force === true) {\n    root._bokeh_onload_callbacks = [];\n    root._bokeh_is_loading = undefined;\n  }\n\n  \n\n  \n  if (typeof (root._bokeh_timeout) === \"undefined\" || force === true) {\n    root._bokeh_timeout = Date.now() + 5000;\n    root._bokeh_failed_load = false;\n  }\n\n  const NB_LOAD_WARNING = {'data': {'text/html':\n     \"<div style='background-color: #fdd'>\\n\"+\n     \"<p>\\n\"+\n     \"BokehJS does not appear to have successfully loaded. If loading BokehJS from CDN, this \\n\"+\n     \"may be due to a slow or bad network connection. Possible fixes:\\n\"+\n     \"</p>\\n\"+\n     \"<ul>\\n\"+\n     \"<li>re-rerun `output_notebook()` to attempt to load from CDN again, or</li>\\n\"+\n     \"<li>use INLINE resources instead, as so:</li>\\n\"+\n     \"</ul>\\n\"+\n     \"<code>\\n\"+\n     \"from bokeh.resources import INLINE\\n\"+\n     \"output_notebook(resources=INLINE)\\n\"+\n     \"</code>\\n\"+\n     \"</div>\"}};\n\n  function display_loaded() {\n    const el = document.getElementById(\"1003\");\n    if (el != null) {\n      el.textContent = \"BokehJS is loading...\";\n    }\n    if (root.Bokeh !== undefined) {\n      if (el != null) {\n        el.textContent = \"BokehJS \" + root.Bokeh.version + \" successfully loaded.\";\n      }\n    } else if (Date.now() < root._bokeh_timeout) {\n      setTimeout(display_loaded, 100)\n    }\n  }\n\n\n  function run_callbacks() {\n    try {\n      root._bokeh_onload_callbacks.forEach(function(callback) {\n        if (callback != null)\n          callback();\n      });\n    } finally {\n      delete root._bokeh_onload_callbacks\n    }\n    console.debug(\"Bokeh: all callbacks have finished\");\n  }\n\n  function load_libs(css_urls, js_urls, callback) {\n    if (css_urls == null) css_urls = [];\n    if (js_urls == null) js_urls = [];\n\n    root._bokeh_onload_callbacks.push(callback);\n    if (root._bokeh_is_loading > 0) {\n      console.debug(\"Bokeh: BokehJS is being loaded, scheduling callback at\", now());\n      return null;\n    }\n    if (js_urls == null || js_urls.length === 0) {\n      run_callbacks();\n      return null;\n    }\n    console.debug(\"Bokeh: BokehJS not loaded, scheduling load and callback at\", now());\n    root._bokeh_is_loading = css_urls.length + js_urls.length;\n\n    function on_load() {\n      root._bokeh_is_loading--;\n      if (root._bokeh_is_loading === 0) {\n        console.debug(\"Bokeh: all BokehJS libraries/stylesheets loaded\");\n        run_callbacks()\n      }\n    }\n\n    function on_error(url) {\n      console.error(\"failed to load \" + url);\n    }\n\n    for (let i = 0; i < css_urls.length; i++) {\n      const url = css_urls[i];\n      const element = document.createElement(\"link\");\n      element.onload = on_load;\n      element.onerror = on_error.bind(null, url);\n      element.rel = \"stylesheet\";\n      element.type = \"text/css\";\n      element.href = url;\n      console.debug(\"Bokeh: injecting link tag for BokehJS stylesheet: \", url);\n      document.body.appendChild(element);\n    }\n\n    for (let i = 0; i < js_urls.length; i++) {\n      const url = js_urls[i];\n      const element = document.createElement('script');\n      element.onload = on_load;\n      element.onerror = on_error.bind(null, url);\n      element.async = false;\n      element.src = url;\n      console.debug(\"Bokeh: injecting script tag for BokehJS library: \", url);\n      document.head.appendChild(element);\n    }\n  };\n\n  function inject_raw_css(css) {\n    const element = document.createElement(\"style\");\n    element.appendChild(document.createTextNode(css));\n    document.body.appendChild(element);\n  }\n\n  \n  const js_urls = [\"https://cdn.bokeh.org/bokeh/release/bokeh-2.4.1.min.js\", \"https://cdn.bokeh.org/bokeh/release/bokeh-gl-2.4.1.min.js\", \"https://cdn.bokeh.org/bokeh/release/bokeh-widgets-2.4.1.min.js\", \"https://cdn.bokeh.org/bokeh/release/bokeh-tables-2.4.1.min.js\", \"https://cdn.bokeh.org/bokeh/release/bokeh-mathjax-2.4.1.min.js\"];\n  const css_urls = [];\n  \n\n  const inline_js = [\n    function(Bokeh) {\n      Bokeh.set_log_level(\"info\");\n    },\n    function(Bokeh) {\n    \n    \n    }\n  ];\n\n  function run_inline_js() {\n    \n    if (root.Bokeh !== undefined || force === true) {\n      \n    for (let i = 0; i < inline_js.length; i++) {\n      inline_js[i].call(root, root.Bokeh);\n    }\n    if (force === true) {\n        display_loaded();\n      }} else if (Date.now() < root._bokeh_timeout) {\n      setTimeout(run_inline_js, 100);\n    } else if (!root._bokeh_failed_load) {\n      console.log(\"Bokeh: BokehJS failed to load within specified timeout.\");\n      root._bokeh_failed_load = true;\n    } else if (force !== true) {\n      const cell = $(document.getElementById(\"1003\")).parents('.cell').data().cell;\n      cell.output_area.append_execute_result(NB_LOAD_WARNING)\n    }\n\n  }\n\n  if (root._bokeh_is_loading === 0) {\n    console.debug(\"Bokeh: BokehJS loaded, going straight to plotting\");\n    run_inline_js();\n  } else {\n    load_libs(css_urls, js_urls, function() {\n      console.debug(\"Bokeh: BokehJS plotting callback run at\", now());\n      run_inline_js();\n    });\n  }\n}(window));"
     },
     "metadata": {},
     "output_type": "display_data"
    }
   ],
   "source": [
    "# Import Libraries\n",
    "from math import pi\n",
    "import pandas as pd\n",
    "from bokeh.palettes import Turbo256 # RGB colors\n",
    "from bokeh.plotting import figure, show # embed all elements of a graph\n",
    "from bokeh.transform import cumsum # not yet known\n",
    "from bokeh.io import output_notebook\n",
    "\n",
    "output_notebook()"
   ]
  },
  {
   "cell_type": "code",
   "execution_count": 10,
   "id": "84d72d2f",
   "metadata": {},
   "outputs": [],
   "source": [
    "# Import raw data\n",
    "df = pd.read_excel(r'./Raw Data.xlsx')"
   ]
  },
  {
   "cell_type": "code",
   "execution_count": 11,
   "id": "fbe90497",
   "metadata": {},
   "outputs": [],
   "source": [
    "# Extract data in concern\n",
    "data4plot = df.loc[:19, ['Neighborhood', 'Total']]\n",
    "x = data4plot['Total']"
   ]
  },
  {
   "cell_type": "markdown",
   "id": "a426eaba",
   "metadata": {},
   "source": [
    "## Basic of the chart"
   ]
  },
  {
   "cell_type": "code",
   "execution_count": 12,
   "id": "789964b3",
   "metadata": {},
   "outputs": [],
   "source": [
    "data4plot['angle'] = data4plot['Total']/data4plot['Total'].sum() * 2*pi\n",
    "c = [Turbo256[i*10] for i in range(len(x))]\n",
    "data4plot['color'] = pd.DataFrame(c)"
   ]
  },
  {
   "cell_type": "markdown",
   "id": "b106c268",
   "metadata": {},
   "source": [
    "## Pie Chart 1"
   ]
  },
  {
   "cell_type": "code",
   "execution_count": 13,
   "id": "6d88b03e",
   "metadata": {},
   "outputs": [
    {
     "data": {
      "text/html": [
       "\n",
       "\n",
       "\n",
       "\n",
       "\n",
       "\n",
       "  <div class=\"bk-root\" id=\"e621aced-da1d-4551-a762-ea234d3298c4\" data-root-id=\"1004\"></div>\n"
      ]
     },
     "metadata": {},
     "output_type": "display_data"
    },
    {
     "data": {
      "application/javascript": [
       "(function(root) {\n",
       "  function embed_document(root) {\n",
       "    \n",
       "  const docs_json = {\"63a715a4-9d41-4593-984c-815b5e3a0195\":{\"defs\":[],\"roots\":{\"references\":[{\"attributes\":{\"below\":[{\"id\":\"1015\"}],\"center\":[{\"id\":\"1018\"},{\"id\":\"1022\"},{\"id\":\"1044\"}],\"height\":525,\"left\":[{\"id\":\"1019\"}],\"renderers\":[{\"id\":\"1033\"}],\"title\":{\"id\":\"1005\"},\"toolbar\":{\"id\":\"1024\"},\"toolbar_location\":null,\"width\":700,\"x_range\":{\"id\":\"1007\"},\"x_scale\":{\"id\":\"1011\"},\"y_range\":{\"id\":\"1009\"},\"y_scale\":{\"id\":\"1013\"}},\"id\":\"1004\",\"subtype\":\"Figure\",\"type\":\"Plot\"},{\"attributes\":{},\"id\":\"1020\",\"type\":\"BasicTicker\"},{\"attributes\":{\"axis\":{\"id\":\"1019\"},\"coordinates\":null,\"dimension\":1,\"grid_line_color\":null,\"group\":null,\"ticker\":null},\"id\":\"1022\",\"type\":\"Grid\"},{\"attributes\":{},\"id\":\"1037\",\"type\":\"BasicTickFormatter\"},{\"attributes\":{\"end_angle\":{\"expr\":{\"id\":\"1027\"}},\"fill_alpha\":{\"value\":0.1},\"fill_color\":{\"field\":\"color\"},\"hatch_alpha\":{\"value\":0.1},\"line_alpha\":{\"value\":0.1},\"line_color\":{\"value\":\"white\"},\"radius\":{\"value\":0.5},\"start_angle\":{\"expr\":{\"id\":\"1026\"}},\"x\":{\"value\":0},\"y\":{\"value\":1}},\"id\":\"1031\",\"type\":\"Wedge\"},{\"attributes\":{\"coordinates\":null,\"formatter\":{\"id\":\"1040\"},\"group\":null,\"major_label_policy\":{\"id\":\"1041\"},\"ticker\":{\"id\":\"1016\"},\"visible\":false},\"id\":\"1015\",\"type\":\"LinearAxis\"},{\"attributes\":{\"source\":{\"id\":\"1028\"}},\"id\":\"1034\",\"type\":\"CDSView\"},{\"attributes\":{},\"id\":\"1038\",\"type\":\"AllLabels\"},{\"attributes\":{\"end_angle\":{\"expr\":{\"id\":\"1027\"}},\"fill_color\":{\"field\":\"color\"},\"line_color\":{\"value\":\"white\"},\"radius\":{\"value\":0.5},\"start_angle\":{\"expr\":{\"id\":\"1026\"}},\"x\":{\"value\":0},\"y\":{\"value\":1}},\"id\":\"1030\",\"type\":\"Wedge\"},{\"attributes\":{},\"id\":\"1040\",\"type\":\"BasicTickFormatter\"},{\"attributes\":{\"tools\":[{\"id\":\"1023\"}]},\"id\":\"1024\",\"type\":\"Toolbar\"},{\"attributes\":{},\"id\":\"1041\",\"type\":\"AllLabels\"},{\"attributes\":{},\"id\":\"1016\",\"type\":\"BasicTicker\"},{\"attributes\":{\"coordinates\":null,\"formatter\":{\"id\":\"1037\"},\"group\":null,\"major_label_policy\":{\"id\":\"1038\"},\"ticker\":{\"id\":\"1020\"},\"visible\":false},\"id\":\"1019\",\"type\":\"LinearAxis\"},{\"attributes\":{},\"id\":\"1011\",\"type\":\"LinearScale\"},{\"attributes\":{\"callback\":null,\"tooltips\":\"@Neighborhood: @Total\"},\"id\":\"1023\",\"type\":\"HoverTool\"},{\"attributes\":{\"coordinates\":null,\"group\":null,\"text\":\"Number of Burglary among Sutton Neighborhoods\"},\"id\":\"1005\",\"type\":\"Title\"},{\"attributes\":{},\"id\":\"1042\",\"type\":\"UnionRenderers\"},{\"attributes\":{\"axis\":{\"id\":\"1015\"},\"coordinates\":null,\"grid_line_color\":null,\"group\":null,\"ticker\":null},\"id\":\"1018\",\"type\":\"Grid\"},{\"attributes\":{},\"id\":\"1043\",\"type\":\"Selection\"},{\"attributes\":{\"data\":{\"Neighborhood\":[\"Beddington\",\"Belmont\",\"Carshalton Central\",\"Sarshalton South & Clockhouse\",\"Cheam\",\"Hackbridge\",\"North Cheam\",\"South Beddington & Roundshaw\",\"St. Heiler East\",\"St. Heiler West\",\"Stonecot\",\"Sutton Central\",\"Sutton North\",\"Sutton South\",\"Sutton West & East Cheam\",\"The Wrythe\",\"Waillington North\",\"Wallington South\",\"Worcester Park North\",\"Worcester Park South\"],\"Total\":[70,50,62,45,55,24,66,47,32,71,38,83,43,53,42,55,50,65,50,49],\"angle\":{\"__ndarray__\":\"1et78+nO2j8qFn3SFCbTP8X8FbOUvtc/wGA9it870T+Vy7waShDVP2aaY4L/YcI/TfRIU79G2T+E3Fba9P/RP4l4LwOqgsg/uKmIm/Qw2z8iX8jjKRvNP1GQIXx0yd8//OQjOsp30D/RT6PKNEzUPxonF5K/FdA/lcu8GkoQ1T8qFn3SFCbTP2s2PKu05Ng/KhZ90hQm0z9JWHAqCsTSPw==\",\"dtype\":\"float64\",\"order\":\"little\",\"shape\":[20]},\"color\":[\"#30123b\",\"#3b2f7f\",\"#424bb5\",\"#4666dd\",\"#467ff6\",\"#3f98fe\",\"#2fb1f3\",\"#1ec9dc\",\"#17dcc2\",\"#22eba9\",\"#3ff58a\",\"#65fc68\",\"#8bfe4b\",\"#a9fb39\",\"#c3f133\",\"#dae236\",\"#edcf39\",\"#f9ba38\",\"#fea12f\",\"#fb8323\"],\"index\":[0,1,2,3,4,5,6,7,8,9,10,11,12,13,14,15,16,17,18,19]},\"selected\":{\"id\":\"1043\"},\"selection_policy\":{\"id\":\"1042\"}},\"id\":\"1028\",\"type\":\"ColumnDataSource\"},{\"attributes\":{\"label\":{\"field\":\"Neighborhood\"},\"renderers\":[{\"id\":\"1033\"}]},\"id\":\"1045\",\"type\":\"LegendItem\"},{\"attributes\":{\"coordinates\":null,\"data_source\":{\"id\":\"1028\"},\"glyph\":{\"id\":\"1030\"},\"group\":null,\"hover_glyph\":null,\"muted_glyph\":{\"id\":\"1032\"},\"nonselection_glyph\":{\"id\":\"1031\"},\"view\":{\"id\":\"1034\"}},\"id\":\"1033\",\"type\":\"GlyphRenderer\"},{\"attributes\":{\"end\":1.2,\"start\":-0.57},\"id\":\"1007\",\"type\":\"Range1d\"},{\"attributes\":{\"field\":\"angle\"},\"id\":\"1027\",\"type\":\"CumSum\"},{\"attributes\":{},\"id\":\"1009\",\"type\":\"DataRange1d\"},{\"attributes\":{\"field\":\"angle\",\"include_zero\":true},\"id\":\"1026\",\"type\":\"CumSum\"},{\"attributes\":{},\"id\":\"1013\",\"type\":\"LinearScale\"},{\"attributes\":{\"coordinates\":null,\"group\":null,\"items\":[{\"id\":\"1045\"}]},\"id\":\"1044\",\"type\":\"Legend\"},{\"attributes\":{\"end_angle\":{\"expr\":{\"id\":\"1027\"}},\"fill_alpha\":{\"value\":0.2},\"fill_color\":{\"field\":\"color\"},\"hatch_alpha\":{\"value\":0.2},\"line_alpha\":{\"value\":0.2},\"line_color\":{\"value\":\"white\"},\"radius\":{\"value\":0.5},\"start_angle\":{\"expr\":{\"id\":\"1026\"}},\"x\":{\"value\":0},\"y\":{\"value\":1}},\"id\":\"1032\",\"type\":\"Wedge\"}],\"root_ids\":[\"1004\"]},\"title\":\"Bokeh Application\",\"version\":\"2.4.1\"}};\n",
       "  const render_items = [{\"docid\":\"63a715a4-9d41-4593-984c-815b5e3a0195\",\"root_ids\":[\"1004\"],\"roots\":{\"1004\":\"e621aced-da1d-4551-a762-ea234d3298c4\"}}];\n",
       "  root.Bokeh.embed.embed_items_notebook(docs_json, render_items);\n",
       "\n",
       "  }\n",
       "  if (root.Bokeh !== undefined) {\n",
       "    embed_document(root);\n",
       "  } else {\n",
       "    let attempts = 0;\n",
       "    const timer = setInterval(function(root) {\n",
       "      if (root.Bokeh !== undefined) {\n",
       "        clearInterval(timer);\n",
       "        embed_document(root);\n",
       "      } else {\n",
       "        attempts++;\n",
       "        if (attempts > 100) {\n",
       "          clearInterval(timer);\n",
       "          console.log(\"Bokeh: ERROR: Unable to run BokehJS code because BokehJS library is missing\");\n",
       "        }\n",
       "      }\n",
       "    }, 10, root)\n",
       "  }\n",
       "})(window);"
      ],
      "application/vnd.bokehjs_exec.v0+json": ""
     },
     "metadata": {
      "application/vnd.bokehjs_exec.v0+json": {
       "id": "1004"
      }
     },
     "output_type": "display_data"
    }
   ],
   "source": [
    "# Plot a pie chart\n",
    "p = figure(title=\"Number of Burglary among Sutton Neighborhoods\", toolbar_location=None,\n",
    "           tools=\"hover\", tooltips=\"@Neighborhood: @Total\", plot_height=525, plot_width=700, x_range=(-0.57, 1.2))\n",
    "\n",
    "p.wedge(x=0, y=1, radius=0.5,\n",
    "        start_angle=cumsum('angle', include_zero=True), end_angle=cumsum('angle'),\n",
    "        line_color=\"white\", fill_color='color', legend_field='Neighborhood', source=data4plot)\n",
    "\n",
    "p.axis.axis_label = None\n",
    "p.axis.visible = False\n",
    "p.grid.grid_line_color = None\n",
    "\n",
    "show(p)"
   ]
  },
  {
   "cell_type": "markdown",
   "id": "0494b482",
   "metadata": {},
   "source": [
    "## Pie Char 2"
   ]
  },
  {
   "cell_type": "code",
   "execution_count": 14,
   "id": "85e00cff",
   "metadata": {},
   "outputs": [
    {
     "data": {
      "text/html": [
       "\n",
       "\n",
       "\n",
       "\n",
       "\n",
       "\n",
       "  <div class=\"bk-root\" id=\"ec134aa5-ae6f-4aa2-b88a-762b90e5b2b6\" data-root-id=\"1100\"></div>\n"
      ]
     },
     "metadata": {},
     "output_type": "display_data"
    },
    {
     "data": {
      "application/javascript": [
       "(function(root) {\n",
       "  function embed_document(root) {\n",
       "    \n",
       "  const docs_json = {\"cf2d750f-642b-4657-a1d4-ca1b7785a942\":{\"defs\":[],\"roots\":{\"references\":[{\"attributes\":{\"below\":[{\"id\":\"1109\"}],\"center\":[{\"id\":\"1112\"},{\"id\":\"1116\"},{\"id\":\"1142\"}],\"height\":540,\"left\":[{\"id\":\"1113\"}],\"renderers\":[{\"id\":\"1130\"}],\"title\":{\"id\":\"1120\"},\"toolbar\":{\"id\":\"1118\"},\"toolbar_location\":null,\"width\":700,\"x_range\":{\"id\":\"1101\"},\"x_scale\":{\"id\":\"1105\"},\"y_range\":{\"id\":\"1103\"},\"y_scale\":{\"id\":\"1107\"}},\"id\":\"1100\",\"subtype\":\"Figure\",\"type\":\"Plot\"},{\"attributes\":{},\"id\":\"1139\",\"type\":\"AllLabels\"},{\"attributes\":{\"end_angle\":{\"expr\":{\"id\":\"1124\"}},\"fill_color\":{\"field\":\"color\"},\"line_color\":{\"value\":\"white\"},\"radius\":{\"value\":0.5},\"start_angle\":{\"expr\":{\"id\":\"1123\"}},\"x\":{\"value\":0},\"y\":{\"value\":1}},\"id\":\"1127\",\"type\":\"Wedge\"},{\"attributes\":{\"end\":1.2,\"start\":-0.57},\"id\":\"1101\",\"type\":\"Range1d\"},{\"attributes\":{},\"id\":\"1138\",\"type\":\"BasicTickFormatter\"},{\"attributes\":{\"end_angle\":{\"expr\":{\"id\":\"1124\"}},\"fill_alpha\":{\"value\":0.1},\"fill_color\":{\"field\":\"color\"},\"hatch_alpha\":{\"value\":0.1},\"line_alpha\":{\"value\":0.1},\"line_color\":{\"value\":\"white\"},\"radius\":{\"value\":0.5},\"start_angle\":{\"expr\":{\"id\":\"1123\"}},\"x\":{\"value\":0},\"y\":{\"value\":1}},\"id\":\"1128\",\"type\":\"Wedge\"},{\"attributes\":{\"source\":{\"id\":\"1125\"}},\"id\":\"1131\",\"type\":\"CDSView\"},{\"attributes\":{\"end_angle\":{\"expr\":{\"id\":\"1124\"}},\"fill_alpha\":{\"value\":0.2},\"fill_color\":{\"field\":\"color\"},\"hatch_alpha\":{\"value\":0.2},\"line_alpha\":{\"value\":0.2},\"line_color\":{\"value\":\"white\"},\"radius\":{\"value\":0.5},\"start_angle\":{\"expr\":{\"id\":\"1123\"}},\"x\":{\"value\":0},\"y\":{\"value\":1}},\"id\":\"1129\",\"type\":\"Wedge\"},{\"attributes\":{},\"id\":\"1114\",\"type\":\"BasicTicker\"},{\"attributes\":{\"axis\":{\"id\":\"1113\"},\"coordinates\":null,\"dimension\":1,\"grid_line_color\":null,\"group\":null,\"ticker\":null},\"id\":\"1116\",\"type\":\"Grid\"},{\"attributes\":{\"data\":{\"Neighborhood\":[\"Beddington\",\"Belmont\",\"Carshalton Central\",\"Sarshalton South & Clockhouse\",\"Cheam\",\"Hackbridge\",\"North Cheam\",\"South Beddington & Roundshaw\",\"St. Heiler East\",\"St. Heiler West\",\"Stonecot\",\"Sutton Central\",\"Sutton North\",\"Sutton South\",\"Sutton West & East Cheam\",\"The Wrythe\",\"Waillington North\",\"Wallington South\",\"Worcester Park North\",\"Worcester Park South\"],\"Total\":[70,50,62,45,55,24,66,47,32,71,38,83,43,53,42,55,50,65,50,49],\"angle\":{\"__ndarray__\":\"1et78+nO2j8qFn3SFCbTP8X8FbOUvtc/wGA9it870T+Vy7waShDVP2aaY4L/YcI/TfRIU79G2T+E3Fba9P/RP4l4LwOqgsg/uKmIm/Qw2z8iX8jjKRvNP1GQIXx0yd8//OQjOsp30D/RT6PKNEzUPxonF5K/FdA/lcu8GkoQ1T8qFn3SFCbTP2s2PKu05Ng/KhZ90hQm0z9JWHAqCsTSPw==\",\"dtype\":\"float64\",\"order\":\"little\",\"shape\":[20]},\"color\":[\"#30123b\",\"#3b2f7f\",\"#424bb5\",\"#4666dd\",\"#467ff6\",\"#3f98fe\",\"#2fb1f3\",\"#1ec9dc\",\"#17dcc2\",\"#22eba9\",\"#3ff58a\",\"#65fc68\",\"#8bfe4b\",\"#a9fb39\",\"#c3f133\",\"#dae236\",\"#edcf39\",\"#f9ba38\",\"#fea12f\",\"#fb8323\"],\"index\":[0,1,2,3,4,5,6,7,8,9,10,11,12,13,14,15,16,17,18,19]},\"selected\":{\"id\":\"1141\"},\"selection_policy\":{\"id\":\"1140\"}},\"id\":\"1125\",\"type\":\"ColumnDataSource\"},{\"attributes\":{\"align\":\"center\",\"coordinates\":null,\"group\":null,\"text\":\"Number of Burglary among Sutton Neighborhoods\",\"text_font_size\":\"22px\"},\"id\":\"1120\",\"type\":\"Title\"},{\"attributes\":{\"label\":{\"field\":\"Neighborhood\"},\"renderers\":[{\"id\":\"1130\"}]},\"id\":\"1143\",\"type\":\"LegendItem\"},{\"attributes\":{\"field\":\"angle\",\"include_zero\":true},\"id\":\"1123\",\"type\":\"CumSum\"},{\"attributes\":{\"axis\":{\"id\":\"1109\"},\"coordinates\":null,\"grid_line_color\":null,\"group\":null,\"ticker\":null},\"id\":\"1112\",\"type\":\"Grid\"},{\"attributes\":{},\"id\":\"1110\",\"type\":\"BasicTicker\"},{\"attributes\":{\"coordinates\":null,\"data_source\":{\"id\":\"1125\"},\"glyph\":{\"id\":\"1127\"},\"group\":null,\"hover_glyph\":null,\"muted_glyph\":{\"id\":\"1129\"},\"nonselection_glyph\":{\"id\":\"1128\"},\"view\":{\"id\":\"1131\"}},\"id\":\"1130\",\"type\":\"GlyphRenderer\"},{\"attributes\":{\"callback\":null,\"tooltips\":\"@Neighborhood: @Total\"},\"id\":\"1117\",\"type\":\"HoverTool\"},{\"attributes\":{\"coordinates\":null,\"group\":null,\"items\":[{\"id\":\"1143\"}]},\"id\":\"1142\",\"type\":\"Legend\"},{\"attributes\":{},\"id\":\"1107\",\"type\":\"LinearScale\"},{\"attributes\":{\"coordinates\":null,\"formatter\":{\"id\":\"1138\"},\"group\":null,\"major_label_policy\":{\"id\":\"1139\"},\"ticker\":{\"id\":\"1110\"},\"visible\":false},\"id\":\"1109\",\"type\":\"LinearAxis\"},{\"attributes\":{},\"id\":\"1105\",\"type\":\"LinearScale\"},{\"attributes\":{},\"id\":\"1141\",\"type\":\"Selection\"},{\"attributes\":{\"coordinates\":null,\"formatter\":{\"id\":\"1135\"},\"group\":null,\"major_label_policy\":{\"id\":\"1136\"},\"ticker\":{\"id\":\"1114\"},\"visible\":false},\"id\":\"1113\",\"type\":\"LinearAxis\"},{\"attributes\":{\"field\":\"angle\"},\"id\":\"1124\",\"type\":\"CumSum\"},{\"attributes\":{},\"id\":\"1135\",\"type\":\"BasicTickFormatter\"},{\"attributes\":{},\"id\":\"1103\",\"type\":\"DataRange1d\"},{\"attributes\":{},\"id\":\"1140\",\"type\":\"UnionRenderers\"},{\"attributes\":{},\"id\":\"1136\",\"type\":\"AllLabels\"},{\"attributes\":{\"tools\":[{\"id\":\"1117\"}]},\"id\":\"1118\",\"type\":\"Toolbar\"}],\"root_ids\":[\"1100\"]},\"title\":\"Bokeh Application\",\"version\":\"2.4.1\"}};\n",
       "  const render_items = [{\"docid\":\"cf2d750f-642b-4657-a1d4-ca1b7785a942\",\"root_ids\":[\"1100\"],\"roots\":{\"1100\":\"ec134aa5-ae6f-4aa2-b88a-762b90e5b2b6\"}}];\n",
       "  root.Bokeh.embed.embed_items_notebook(docs_json, render_items);\n",
       "\n",
       "  }\n",
       "  if (root.Bokeh !== undefined) {\n",
       "    embed_document(root);\n",
       "  } else {\n",
       "    let attempts = 0;\n",
       "    const timer = setInterval(function(root) {\n",
       "      if (root.Bokeh !== undefined) {\n",
       "        clearInterval(timer);\n",
       "        embed_document(root);\n",
       "      } else {\n",
       "        attempts++;\n",
       "        if (attempts > 100) {\n",
       "          clearInterval(timer);\n",
       "          console.log(\"Bokeh: ERROR: Unable to run BokehJS code because BokehJS library is missing\");\n",
       "        }\n",
       "      }\n",
       "    }, 10, root)\n",
       "  }\n",
       "})(window);"
      ],
      "application/vnd.bokehjs_exec.v0+json": ""
     },
     "metadata": {
      "application/vnd.bokehjs_exec.v0+json": {
       "id": "1100"
      }
     },
     "output_type": "display_data"
    }
   ],
   "source": [
    "# Plot a pie chart\n",
    "p = figure(toolbar_location=None, tools=\"hover\", tooltips=\"@Neighborhood: @Total\", \n",
    "           plot_height=540, plot_width=700, x_range=(-0.57, 1.2))\n",
    "\n",
    "p.title.text = \"Number of Burglary among Sutton Neighborhoods\"\n",
    "p.title.align = 'center'\n",
    "p.title.text_font_size = \"22px\"\n",
    "\n",
    "p.wedge(x=0, y=1, radius=0.5,\n",
    "        start_angle=cumsum('angle', include_zero=True), end_angle=cumsum('angle'),\n",
    "        line_color=\"white\", fill_color='color', legend_field='Neighborhood', source=data4plot)\n",
    "\n",
    "p.axis.axis_label = None\n",
    "p.axis.visible = False\n",
    "p.grid.grid_line_color = None\n",
    "\n",
    "show(p)"
   ]
  },
  {
   "cell_type": "markdown",
   "id": "7f8393e7",
   "metadata": {},
   "source": [
    "## Conclusions\n",
    "Our chart shows that the number of burglary was distributed uniformly among Sutton's neighborhood.\n",
    "\n",
    "# Task 2\n",
    "Now, let see if there are trends on the number in each neighborhood.\n",
    "\n",
    "## Flow\n",
    "1. Extract data\n",
    "2. Plot line chart with online code\n",
    "3. Amend the chart"
   ]
  },
  {
   "cell_type": "markdown",
   "id": "065acf9b",
   "metadata": {},
   "source": [
    "### Amend the dataset into our needs\n",
    "1. Remove unuse data and swap the set\n",
    "2. Add the column of months and set it as the new row-index\n",
    "3. Set the column-index as the neighborhoods' name"
   ]
  },
  {
   "cell_type": "code",
   "execution_count": 15,
   "id": "73a14484",
   "metadata": {},
   "outputs": [],
   "source": [
    "# Drop the last column and row, then swap the dataset\n",
    "data = df.drop(columns=['Total']).loc[:19, :].T\n",
    "\n",
    "# Add a column \"Month\" to the dataset\n",
    "month = ['Month','Oct 21', 'Nov 21', 'Dec 21', 'Jan 22', 'Feb 22', 'Mar 22', \n",
    "         'Apr 22', 'May 22', 'Jun 22', 'Jul 22', 'Aug 22', 'Sep 22']\n",
    "data['Month'] = month\n",
    "\n",
    "# Set column 'Month' as new rows' index\n",
    "data = data.set_index('Month')\n",
    "\n",
    "# Set neighborhoods' name as the new column-index\n",
    "'''data.iloc[0] calls the 1st row, data.index[0] calls the index of the 1st row'''\n",
    "data = data.rename(columns=data.iloc[0]).drop(data.index[0])"
   ]
  },
  {
   "cell_type": "markdown",
   "id": "136bffa4",
   "metadata": {},
   "source": [
    "### Extract the data of each neighborhood and plot them on the same canvas"
   ]
  },
  {
   "cell_type": "code",
   "execution_count": 16,
   "id": "abe1e381",
   "metadata": {},
   "outputs": [],
   "source": [
    "# Extract neighborhoods' name and save them as a list\n",
    "nb = df['Neighborhood'].to_list()\n",
    "nb = nb[0:len(nb)-1]"
   ]
  },
  {
   "cell_type": "code",
   "execution_count": 19,
   "id": "7d2df1f8",
   "metadata": {},
   "outputs": [
    {
     "name": "stdout",
     "output_type": "stream",
     "text": [
      "Please choose one of the neighborhoods from below: \n",
      " ['Beddington', 'Belmont', 'Carshalton Central', 'Sarshalton South & Clockhouse', 'Cheam', 'Hackbridge', 'North Cheam', 'South Beddington & Roundshaw', 'St. Heiler East', 'St. Heiler West', 'Stonecot', 'Sutton Central', 'Sutton North', 'Sutton South', 'Sutton West & East Cheam', 'The Wrythe', 'Waillington North', 'Wallington South', 'Worcester Park North', 'Worcester Park South']Sutton West & East Cheam\n"
     ]
    },
    {
     "data": {
      "text/html": [
       "\n",
       "\n",
       "\n",
       "\n",
       "\n",
       "\n",
       "  <div class=\"bk-root\" id=\"57534f3a-a69f-4186-bd8d-47ea2e7ad2e1\" data-root-id=\"1645\"></div>\n"
      ]
     },
     "metadata": {},
     "output_type": "display_data"
    },
    {
     "data": {
      "application/javascript": [
       "(function(root) {\n",
       "  function embed_document(root) {\n",
       "    \n",
       "  const docs_json = {\"71275873-8245-4f90-af35-9a1f83580409\":{\"defs\":[],\"roots\":{\"references\":[{\"attributes\":{\"below\":[{\"id\":\"1654\"}],\"center\":[{\"id\":\"1656\"},{\"id\":\"1660\"}],\"height\":450,\"left\":[{\"id\":\"1657\"}],\"renderers\":[{\"id\":\"1683\"},{\"id\":\"1690\"}],\"title\":{\"id\":\"1675\"},\"toolbar\":{\"id\":\"1668\"},\"width\":900,\"x_range\":{\"id\":\"1646\"},\"x_scale\":{\"id\":\"1650\"},\"y_range\":{\"id\":\"1648\"},\"y_scale\":{\"id\":\"1652\"}},\"id\":\"1645\",\"subtype\":\"Figure\",\"type\":\"Plot\"},{\"attributes\":{},\"id\":\"1755\",\"type\":\"UnionRenderers\"},{\"attributes\":{\"align\":\"center\",\"coordinates\":null,\"group\":null,\"text\":\"Trend of Burglary among Sutton West & East Cheam 2022\",\"text_font_size\":\"22px\"},\"id\":\"1675\",\"type\":\"Title\"},{\"attributes\":{\"bottom_units\":\"screen\",\"coordinates\":null,\"fill_alpha\":0.5,\"fill_color\":\"lightgrey\",\"group\":null,\"left_units\":\"screen\",\"level\":\"overlay\",\"line_alpha\":1.0,\"line_color\":\"black\",\"line_dash\":[4,4],\"line_width\":2,\"right_units\":\"screen\",\"syncable\":false,\"top_units\":\"screen\"},\"id\":\"1667\",\"type\":\"BoxAnnotation\"},{\"attributes\":{},\"id\":\"1748\",\"type\":\"BasicTickFormatter\"},{\"attributes\":{},\"id\":\"1756\",\"type\":\"Selection\"},{\"attributes\":{},\"id\":\"1655\",\"type\":\"CategoricalTicker\"},{\"attributes\":{\"data\":{\"Month\":[\"Oct 21\",\"Nov 21\",\"Dec 21\",\"Jan 22\",\"Feb 22\",\"Mar 22\",\"Apr 22\",\"May 22\",\"Jun 22\",\"Jul 22\",\"Aug 22\",\"Sep 22\"],\"Sutton West & East Cheam\":[1,3,7,4,1,1,4,1,5,8,3,4]},\"selected\":{\"id\":\"1756\"},\"selection_policy\":{\"id\":\"1755\"}},\"id\":\"1685\",\"type\":\"ColumnDataSource\"},{\"attributes\":{\"coordinates\":null,\"formatter\":{\"id\":\"1748\"},\"group\":null,\"major_label_policy\":{\"id\":\"1749\"},\"ticker\":{\"id\":\"1658\"}},\"id\":\"1657\",\"type\":\"LinearAxis\"},{\"attributes\":{},\"id\":\"1648\",\"type\":\"DataRange1d\"},{\"attributes\":{\"factors\":[\"Oct 21\",\"Nov 21\",\"Dec 21\",\"Jan 22\",\"Feb 22\",\"Mar 22\",\"Apr 22\",\"May 22\",\"Jun 22\",\"Jul 22\",\"Aug 22\",\"Sep 22\"]},\"id\":\"1646\",\"type\":\"FactorRange\"},{\"attributes\":{},\"id\":\"1749\",\"type\":\"AllLabels\"},{\"attributes\":{},\"id\":\"1753\",\"type\":\"UnionRenderers\"},{\"attributes\":{\"fill_alpha\":{\"value\":0.2},\"fill_color\":{\"value\":\"red\"},\"hatch_alpha\":{\"value\":0.2},\"hatch_color\":{\"value\":\"red\"},\"line_alpha\":{\"value\":0.2},\"line_color\":{\"value\":\"red\"},\"size\":{\"value\":12},\"x\":{\"field\":\"Month\"},\"y\":{\"field\":\"Sutton West & East Cheam\"}},\"id\":\"1682\",\"type\":\"Circle\"},{\"attributes\":{\"coordinates\":null,\"data_source\":{\"id\":\"1678\"},\"glyph\":{\"id\":\"1680\"},\"group\":null,\"hover_glyph\":null,\"muted_glyph\":{\"id\":\"1682\"},\"nonselection_glyph\":{\"id\":\"1681\"},\"view\":{\"id\":\"1684\"}},\"id\":\"1683\",\"type\":\"GlyphRenderer\"},{\"attributes\":{\"line_alpha\":0.1,\"line_width\":2,\"x\":{\"field\":\"Month\"},\"y\":{\"field\":\"Sutton West & East Cheam\"}},\"id\":\"1688\",\"type\":\"Line\"},{\"attributes\":{},\"id\":\"1665\",\"type\":\"ResetTool\"},{\"attributes\":{},\"id\":\"1754\",\"type\":\"Selection\"},{\"attributes\":{\"data\":{\"Month\":[\"Oct 21\",\"Nov 21\",\"Dec 21\",\"Jan 22\",\"Feb 22\",\"Mar 22\",\"Apr 22\",\"May 22\",\"Jun 22\",\"Jul 22\",\"Aug 22\",\"Sep 22\"],\"Sutton West & East Cheam\":[1,3,7,4,1,1,4,1,5,8,3,4]},\"selected\":{\"id\":\"1754\"},\"selection_policy\":{\"id\":\"1753\"}},\"id\":\"1678\",\"type\":\"ColumnDataSource\"},{\"attributes\":{\"source\":{\"id\":\"1685\"}},\"id\":\"1691\",\"type\":\"CDSView\"},{\"attributes\":{\"fill_alpha\":{\"value\":0.1},\"fill_color\":{\"value\":\"red\"},\"hatch_alpha\":{\"value\":0.1},\"hatch_color\":{\"value\":\"red\"},\"line_alpha\":{\"value\":0.1},\"line_color\":{\"value\":\"red\"},\"size\":{\"value\":12},\"x\":{\"field\":\"Month\"},\"y\":{\"field\":\"Sutton West & East Cheam\"}},\"id\":\"1681\",\"type\":\"Circle\"},{\"attributes\":{\"coordinates\":null,\"data_source\":{\"id\":\"1685\"},\"glyph\":{\"id\":\"1687\"},\"group\":null,\"hover_glyph\":null,\"muted_glyph\":{\"id\":\"1689\"},\"nonselection_glyph\":{\"id\":\"1688\"},\"view\":{\"id\":\"1691\"}},\"id\":\"1690\",\"type\":\"GlyphRenderer\"},{\"attributes\":{},\"id\":\"1661\",\"type\":\"PanTool\"},{\"attributes\":{},\"id\":\"1662\",\"type\":\"WheelZoomTool\"},{\"attributes\":{\"source\":{\"id\":\"1678\"}},\"id\":\"1684\",\"type\":\"CDSView\"},{\"attributes\":{},\"id\":\"1664\",\"type\":\"SaveTool\"},{\"attributes\":{},\"id\":\"1752\",\"type\":\"AllLabels\"},{\"attributes\":{},\"id\":\"1666\",\"type\":\"HelpTool\"},{\"attributes\":{\"overlay\":{\"id\":\"1667\"}},\"id\":\"1663\",\"type\":\"BoxZoomTool\"},{\"attributes\":{\"axis\":{\"id\":\"1654\"},\"coordinates\":null,\"group\":null,\"ticker\":null},\"id\":\"1656\",\"type\":\"Grid\"},{\"attributes\":{\"axis\":{\"id\":\"1657\"},\"coordinates\":null,\"dimension\":1,\"group\":null,\"ticker\":null},\"id\":\"1660\",\"type\":\"Grid\"},{\"attributes\":{\"coordinates\":null,\"formatter\":{\"id\":\"1751\"},\"group\":null,\"major_label_policy\":{\"id\":\"1752\"},\"ticker\":{\"id\":\"1655\"}},\"id\":\"1654\",\"type\":\"CategoricalAxis\"},{\"attributes\":{},\"id\":\"1658\",\"type\":\"BasicTicker\"},{\"attributes\":{\"tools\":[{\"id\":\"1661\"},{\"id\":\"1662\"},{\"id\":\"1663\"},{\"id\":\"1664\"},{\"id\":\"1665\"},{\"id\":\"1666\"}]},\"id\":\"1668\",\"type\":\"Toolbar\"},{\"attributes\":{},\"id\":\"1650\",\"type\":\"CategoricalScale\"},{\"attributes\":{},\"id\":\"1751\",\"type\":\"CategoricalTickFormatter\"},{\"attributes\":{},\"id\":\"1652\",\"type\":\"LinearScale\"},{\"attributes\":{\"fill_color\":{\"value\":\"red\"},\"hatch_color\":{\"value\":\"red\"},\"line_color\":{\"value\":\"red\"},\"size\":{\"value\":12},\"x\":{\"field\":\"Month\"},\"y\":{\"field\":\"Sutton West & East Cheam\"}},\"id\":\"1680\",\"type\":\"Circle\"},{\"attributes\":{\"line_width\":2,\"x\":{\"field\":\"Month\"},\"y\":{\"field\":\"Sutton West & East Cheam\"}},\"id\":\"1687\",\"type\":\"Line\"},{\"attributes\":{\"line_alpha\":0.2,\"line_width\":2,\"x\":{\"field\":\"Month\"},\"y\":{\"field\":\"Sutton West & East Cheam\"}},\"id\":\"1689\",\"type\":\"Line\"}],\"root_ids\":[\"1645\"]},\"title\":\"Bokeh Application\",\"version\":\"2.4.1\"}};\n",
       "  const render_items = [{\"docid\":\"71275873-8245-4f90-af35-9a1f83580409\",\"root_ids\":[\"1645\"],\"roots\":{\"1645\":\"57534f3a-a69f-4186-bd8d-47ea2e7ad2e1\"}}];\n",
       "  root.Bokeh.embed.embed_items_notebook(docs_json, render_items);\n",
       "\n",
       "  }\n",
       "  if (root.Bokeh !== undefined) {\n",
       "    embed_document(root);\n",
       "  } else {\n",
       "    let attempts = 0;\n",
       "    const timer = setInterval(function(root) {\n",
       "      if (root.Bokeh !== undefined) {\n",
       "        clearInterval(timer);\n",
       "        embed_document(root);\n",
       "      } else {\n",
       "        attempts++;\n",
       "        if (attempts > 100) {\n",
       "          clearInterval(timer);\n",
       "          console.log(\"Bokeh: ERROR: Unable to run BokehJS code because BokehJS library is missing\");\n",
       "        }\n",
       "      }\n",
       "    }, 10, root)\n",
       "  }\n",
       "})(window);"
      ],
      "application/vnd.bokehjs_exec.v0+json": ""
     },
     "metadata": {
      "application/vnd.bokehjs_exec.v0+json": {
       "id": "1645"
      }
     },
     "output_type": "display_data"
    }
   ],
   "source": [
    "# Ask user for their interested neighborhood\n",
    "nb_int = input(f'Please choose one of the neighborhoods from below: \\n {nb}')\n",
    "\n",
    "p = figure(x_range=data.index.values, plot_height=450, plot_width=900) # Tell Bokeh that values of x-ticks are categorical\n",
    "\n",
    "p.title.text = f'Trend of Burglary among {nb_int} 2022'\n",
    "p.title.align = 'center'\n",
    "p.title.text_font_size = \"22px\"\n",
    "\n",
    "# Extrace data of concern\n",
    "trend = data.loc[:, [nb_int]]\n",
    "p.circle(x='Month', y=nb_int, source=trend, size=12, color='red')\n",
    "p.line(x='Month', y=nb_int, source=trend, width=2, color='black')\n",
    "\n",
    "show(p)"
   ]
  },
  {
   "cell_type": "markdown",
   "id": "504bd14f",
   "metadata": {},
   "source": [
    "### Comparisons between neighborhoods\n",
    "1. Ask user's interest\n",
    "2. Plot the data one by one\n",
    "3. Show the chart at once"
   ]
  },
  {
   "cell_type": "code",
   "execution_count": 27,
   "id": "0e14366c",
   "metadata": {},
   "outputs": [
    {
     "name": "stdout",
     "output_type": "stream",
     "text": [
      "How many neighborhoods are you interested (1-6)?4\n",
      "Please choose one of the neighborhoods from below: \n",
      " ['Beddington', 'Belmont', 'Carshalton Central', 'Sarshalton South & Clockhouse', 'Cheam', 'Hackbridge', 'North Cheam', 'South Beddington & Roundshaw', 'St. Heiler East', 'St. Heiler West', 'Stonecot', 'Sutton Central', 'Sutton North', 'Sutton South', 'Sutton West & East Cheam', 'The Wrythe', 'Waillington North', 'Wallington South', 'Worcester Park North', 'Worcester Park South']Sutton West & East Cheam\n",
      "Please choose one of the neighborhoods from below: \n",
      " ['Beddington', 'Belmont', 'Carshalton Central', 'Sarshalton South & Clockhouse', 'Cheam', 'Hackbridge', 'North Cheam', 'South Beddington & Roundshaw', 'St. Heiler East', 'St. Heiler West', 'Stonecot', 'Sutton Central', 'Sutton North', 'Sutton South', 'Sutton West & East Cheam', 'The Wrythe', 'Waillington North', 'Wallington South', 'Worcester Park North', 'Worcester Park South']Sutton Central\n",
      "Please choose one of the neighborhoods from below: \n",
      " ['Beddington', 'Belmont', 'Carshalton Central', 'Sarshalton South & Clockhouse', 'Cheam', 'Hackbridge', 'North Cheam', 'South Beddington & Roundshaw', 'St. Heiler East', 'St. Heiler West', 'Stonecot', 'Sutton Central', 'Sutton North', 'Sutton South', 'Sutton West & East Cheam', 'The Wrythe', 'Waillington North', 'Wallington South', 'Worcester Park North', 'Worcester Park South']Sutton South\n",
      "Please choose one of the neighborhoods from below: \n",
      " ['Beddington', 'Belmont', 'Carshalton Central', 'Sarshalton South & Clockhouse', 'Cheam', 'Hackbridge', 'North Cheam', 'South Beddington & Roundshaw', 'St. Heiler East', 'St. Heiler West', 'Stonecot', 'Sutton Central', 'Sutton North', 'Sutton South', 'Sutton West & East Cheam', 'The Wrythe', 'Waillington North', 'Wallington South', 'Worcester Park North', 'Worcester Park South']Sutton North\n"
     ]
    },
    {
     "data": {
      "text/html": [
       "\n",
       "\n",
       "\n",
       "\n",
       "\n",
       "\n",
       "  <div class=\"bk-root\" id=\"fc67776f-36ea-4634-835d-769024133fd8\" data-root-id=\"3461\"></div>\n"
      ]
     },
     "metadata": {},
     "output_type": "display_data"
    },
    {
     "data": {
      "application/javascript": [
       "(function(root) {\n",
       "  function embed_document(root) {\n",
       "    \n",
       "  const docs_json = {\"cadf1537-beb2-4fcb-bd40-e89aa2620bb3\":{\"defs\":[],\"roots\":{\"references\":[{\"attributes\":{\"below\":[{\"id\":\"3470\"}],\"center\":[{\"id\":\"3472\"},{\"id\":\"3476\"},{\"id\":\"3518\"}],\"left\":[{\"id\":\"3473\"}],\"renderers\":[{\"id\":\"3496\"},{\"id\":\"3503\"},{\"id\":\"3525\"},{\"id\":\"3532\"},{\"id\":\"3557\"},{\"id\":\"3564\"},{\"id\":\"3593\"},{\"id\":\"3600\"}],\"title\":{\"id\":\"3505\"},\"toolbar\":{\"id\":\"3484\"},\"width\":900,\"x_range\":{\"id\":\"3462\"},\"x_scale\":{\"id\":\"3466\"},\"y_range\":{\"id\":\"3464\"},\"y_scale\":{\"id\":\"3468\"}},\"id\":\"3461\",\"subtype\":\"Figure\",\"type\":\"Plot\"},{\"attributes\":{},\"id\":\"3512\",\"type\":\"AllLabels\"},{\"attributes\":{\"line_color\":\"orange\",\"line_width\":2,\"x\":{\"field\":\"Month\"},\"y\":{\"field\":\"Sutton North\"}},\"id\":\"3597\",\"type\":\"Line\"},{\"attributes\":{\"coordinates\":null,\"data_source\":{\"id\":\"3552\"},\"glyph\":{\"id\":\"3554\"},\"group\":null,\"hover_glyph\":null,\"muted_glyph\":{\"id\":\"3556\"},\"nonselection_glyph\":{\"id\":\"3555\"},\"view\":{\"id\":\"3558\"}},\"id\":\"3557\",\"type\":\"GlyphRenderer\"},{\"attributes\":{\"data\":{\"Month\":[\"Oct 21\",\"Nov 21\",\"Dec 21\",\"Jan 22\",\"Feb 22\",\"Mar 22\",\"Apr 22\",\"May 22\",\"Jun 22\",\"Jul 22\",\"Aug 22\",\"Sep 22\"],\"Sutton South\":[2,9,7,3,3,1,4,3,7,6,6,2]},\"selected\":{\"id\":\"3583\"},\"selection_policy\":{\"id\":\"3582\"}},\"id\":\"3552\",\"type\":\"ColumnDataSource\"},{\"attributes\":{\"line_alpha\":0.1,\"line_color\":\"blue\",\"line_width\":2,\"x\":{\"field\":\"Month\"},\"y\":{\"field\":\"Sutton Central\"}},\"id\":\"3530\",\"type\":\"Line\"},{\"attributes\":{},\"id\":\"3513\",\"type\":\"UnionRenderers\"},{\"attributes\":{\"fill_color\":{\"value\":\"green\"},\"hatch_color\":{\"value\":\"green\"},\"line_color\":{\"value\":\"green\"},\"size\":{\"value\":12},\"x\":{\"field\":\"Month\"},\"y\":{\"field\":\"Sutton South\"}},\"id\":\"3554\",\"type\":\"Circle\"},{\"attributes\":{},\"id\":\"3508\",\"type\":\"BasicTickFormatter\"},{\"attributes\":{\"fill_alpha\":{\"value\":0.2},\"fill_color\":{\"value\":\"green\"},\"hatch_alpha\":{\"value\":0.2},\"hatch_color\":{\"value\":\"green\"},\"line_alpha\":{\"value\":0.2},\"line_color\":{\"value\":\"green\"},\"size\":{\"value\":12},\"x\":{\"field\":\"Month\"},\"y\":{\"field\":\"Sutton South\"}},\"id\":\"3556\",\"type\":\"Circle\"},{\"attributes\":{},\"id\":\"3514\",\"type\":\"Selection\"},{\"attributes\":{},\"id\":\"3546\",\"type\":\"UnionRenderers\"},{\"attributes\":{\"coordinates\":null,\"data_source\":{\"id\":\"3527\"},\"glyph\":{\"id\":\"3529\"},\"group\":null,\"hover_glyph\":null,\"muted_glyph\":{\"id\":\"3531\"},\"nonselection_glyph\":{\"id\":\"3530\"},\"view\":{\"id\":\"3533\"}},\"id\":\"3532\",\"type\":\"GlyphRenderer\"},{\"attributes\":{},\"id\":\"3511\",\"type\":\"CategoricalTickFormatter\"},{\"attributes\":{},\"id\":\"3547\",\"type\":\"Selection\"},{\"attributes\":{\"data\":{\"Month\":[\"Oct 21\",\"Nov 21\",\"Dec 21\",\"Jan 22\",\"Feb 22\",\"Mar 22\",\"Apr 22\",\"May 22\",\"Jun 22\",\"Jul 22\",\"Aug 22\",\"Sep 22\"],\"Sutton North\":[5,5,4,2,1,2,3,6,4,0,5,6]},\"selected\":{\"id\":\"3623\"},\"selection_policy\":{\"id\":\"3622\"}},\"id\":\"3588\",\"type\":\"ColumnDataSource\"},{\"attributes\":{\"source\":{\"id\":\"3527\"}},\"id\":\"3533\",\"type\":\"CDSView\"},{\"attributes\":{\"line_alpha\":0.2,\"line_color\":\"blue\",\"line_width\":2,\"x\":{\"field\":\"Month\"},\"y\":{\"field\":\"Sutton Central\"}},\"id\":\"3531\",\"type\":\"Line\"},{\"attributes\":{\"label\":{\"value\":\"Sutton Central\"},\"renderers\":[{\"id\":\"3532\"}]},\"id\":\"3551\",\"type\":\"LegendItem\"},{\"attributes\":{\"factors\":[\"Oct 21\",\"Nov 21\",\"Dec 21\",\"Jan 22\",\"Feb 22\",\"Mar 22\",\"Apr 22\",\"May 22\",\"Jun 22\",\"Jul 22\",\"Aug 22\",\"Sep 22\"]},\"id\":\"3462\",\"type\":\"FactorRange\"},{\"attributes\":{},\"id\":\"3515\",\"type\":\"UnionRenderers\"},{\"attributes\":{},\"id\":\"3516\",\"type\":\"Selection\"},{\"attributes\":{},\"id\":\"3548\",\"type\":\"UnionRenderers\"},{\"attributes\":{},\"id\":\"3509\",\"type\":\"AllLabels\"},{\"attributes\":{},\"id\":\"3549\",\"type\":\"Selection\"},{\"attributes\":{\"data\":{\"Month\":[\"Oct 21\",\"Nov 21\",\"Dec 21\",\"Jan 22\",\"Feb 22\",\"Mar 22\",\"Apr 22\",\"May 22\",\"Jun 22\",\"Jul 22\",\"Aug 22\",\"Sep 22\"],\"Sutton West & East Cheam\":[1,3,7,4,1,1,4,1,5,8,3,4]},\"selected\":{\"id\":\"3514\"},\"selection_policy\":{\"id\":\"3513\"}},\"id\":\"3491\",\"type\":\"ColumnDataSource\"},{\"attributes\":{\"fill_alpha\":{\"value\":0.1},\"fill_color\":{\"value\":\"red\"},\"hatch_alpha\":{\"value\":0.1},\"hatch_color\":{\"value\":\"red\"},\"line_alpha\":{\"value\":0.1},\"line_color\":{\"value\":\"red\"},\"size\":{\"value\":12},\"x\":{\"field\":\"Month\"},\"y\":{\"field\":\"Sutton West & East Cheam\"}},\"id\":\"3494\",\"type\":\"Circle\"},{\"attributes\":{\"coordinates\":null,\"data_source\":{\"id\":\"3520\"},\"glyph\":{\"id\":\"3522\"},\"group\":null,\"hover_glyph\":null,\"muted_glyph\":{\"id\":\"3524\"},\"nonselection_glyph\":{\"id\":\"3523\"},\"view\":{\"id\":\"3526\"}},\"id\":\"3525\",\"type\":\"GlyphRenderer\"},{\"attributes\":{\"fill_alpha\":{\"value\":0.2},\"fill_color\":{\"value\":\"red\"},\"hatch_alpha\":{\"value\":0.2},\"hatch_color\":{\"value\":\"red\"},\"line_alpha\":{\"value\":0.2},\"line_color\":{\"value\":\"red\"},\"size\":{\"value\":12},\"x\":{\"field\":\"Month\"},\"y\":{\"field\":\"Sutton West & East Cheam\"}},\"id\":\"3495\",\"type\":\"Circle\"},{\"attributes\":{\"fill_alpha\":{\"value\":0.2},\"fill_color\":{\"value\":\"blue\"},\"hatch_alpha\":{\"value\":0.2},\"hatch_color\":{\"value\":\"blue\"},\"line_alpha\":{\"value\":0.2},\"line_color\":{\"value\":\"blue\"},\"size\":{\"value\":12},\"x\":{\"field\":\"Month\"},\"y\":{\"field\":\"Sutton Central\"}},\"id\":\"3524\",\"type\":\"Circle\"},{\"attributes\":{\"coordinates\":null,\"data_source\":{\"id\":\"3491\"},\"glyph\":{\"id\":\"3493\"},\"group\":null,\"hover_glyph\":null,\"muted_glyph\":{\"id\":\"3495\"},\"nonselection_glyph\":{\"id\":\"3494\"},\"view\":{\"id\":\"3497\"}},\"id\":\"3496\",\"type\":\"GlyphRenderer\"},{\"attributes\":{\"fill_color\":{\"value\":\"blue\"},\"hatch_color\":{\"value\":\"blue\"},\"line_color\":{\"value\":\"blue\"},\"size\":{\"value\":12},\"x\":{\"field\":\"Month\"},\"y\":{\"field\":\"Sutton Central\"}},\"id\":\"3522\",\"type\":\"Circle\"},{\"attributes\":{\"fill_color\":{\"value\":\"red\"},\"hatch_color\":{\"value\":\"red\"},\"line_color\":{\"value\":\"red\"},\"size\":{\"value\":12},\"x\":{\"field\":\"Month\"},\"y\":{\"field\":\"Sutton West & East Cheam\"}},\"id\":\"3493\",\"type\":\"Circle\"},{\"attributes\":{},\"id\":\"3477\",\"type\":\"PanTool\"},{\"attributes\":{},\"id\":\"3478\",\"type\":\"WheelZoomTool\"},{\"attributes\":{},\"id\":\"3480\",\"type\":\"SaveTool\"},{\"attributes\":{\"overlay\":{\"id\":\"3483\"}},\"id\":\"3479\",\"type\":\"BoxZoomTool\"},{\"attributes\":{\"fill_alpha\":{\"value\":0.1},\"fill_color\":{\"value\":\"green\"},\"hatch_alpha\":{\"value\":0.1},\"hatch_color\":{\"value\":\"green\"},\"line_alpha\":{\"value\":0.1},\"line_color\":{\"value\":\"green\"},\"size\":{\"value\":12},\"x\":{\"field\":\"Month\"},\"y\":{\"field\":\"Sutton South\"}},\"id\":\"3555\",\"type\":\"Circle\"},{\"attributes\":{\"fill_alpha\":{\"value\":0.1},\"fill_color\":{\"value\":\"orange\"},\"hatch_alpha\":{\"value\":0.1},\"hatch_color\":{\"value\":\"orange\"},\"line_alpha\":{\"value\":0.1},\"line_color\":{\"value\":\"orange\"},\"size\":{\"value\":12},\"x\":{\"field\":\"Month\"},\"y\":{\"field\":\"Sutton North\"}},\"id\":\"3591\",\"type\":\"Circle\"},{\"attributes\":{\"data\":{\"Month\":[\"Oct 21\",\"Nov 21\",\"Dec 21\",\"Jan 22\",\"Feb 22\",\"Mar 22\",\"Apr 22\",\"May 22\",\"Jun 22\",\"Jul 22\",\"Aug 22\",\"Sep 22\"],\"Sutton North\":[5,5,4,2,1,2,3,6,4,0,5,6]},\"selected\":{\"id\":\"3625\"},\"selection_policy\":{\"id\":\"3624\"}},\"id\":\"3595\",\"type\":\"ColumnDataSource\"},{\"attributes\":{\"fill_color\":{\"value\":\"orange\"},\"hatch_color\":{\"value\":\"orange\"},\"line_color\":{\"value\":\"orange\"},\"size\":{\"value\":12},\"x\":{\"field\":\"Month\"},\"y\":{\"field\":\"Sutton North\"}},\"id\":\"3590\",\"type\":\"Circle\"},{\"attributes\":{},\"id\":\"3482\",\"type\":\"HelpTool\"},{\"attributes\":{\"line_color\":\"green\",\"line_width\":2,\"x\":{\"field\":\"Month\"},\"y\":{\"field\":\"Sutton South\"}},\"id\":\"3561\",\"type\":\"Line\"},{\"attributes\":{},\"id\":\"3481\",\"type\":\"ResetTool\"},{\"attributes\":{\"coordinates\":null,\"formatter\":{\"id\":\"3508\"},\"group\":null,\"major_label_policy\":{\"id\":\"3509\"},\"ticker\":{\"id\":\"3474\"}},\"id\":\"3473\",\"type\":\"LinearAxis\"},{\"attributes\":{\"source\":{\"id\":\"3595\"}},\"id\":\"3601\",\"type\":\"CDSView\"},{\"attributes\":{\"source\":{\"id\":\"3588\"}},\"id\":\"3594\",\"type\":\"CDSView\"},{\"attributes\":{\"coordinates\":null,\"data_source\":{\"id\":\"3588\"},\"glyph\":{\"id\":\"3590\"},\"group\":null,\"hover_glyph\":null,\"muted_glyph\":{\"id\":\"3592\"},\"nonselection_glyph\":{\"id\":\"3591\"},\"view\":{\"id\":\"3594\"}},\"id\":\"3593\",\"type\":\"GlyphRenderer\"},{\"attributes\":{\"bottom_units\":\"screen\",\"coordinates\":null,\"fill_alpha\":0.5,\"fill_color\":\"lightgrey\",\"group\":null,\"left_units\":\"screen\",\"level\":\"overlay\",\"line_alpha\":1.0,\"line_color\":\"black\",\"line_dash\":[4,4],\"line_width\":2,\"right_units\":\"screen\",\"syncable\":false,\"top_units\":\"screen\"},\"id\":\"3483\",\"type\":\"BoxAnnotation\"},{\"attributes\":{\"coordinates\":null,\"data_source\":{\"id\":\"3595\"},\"glyph\":{\"id\":\"3597\"},\"group\":null,\"hover_glyph\":null,\"muted_glyph\":{\"id\":\"3599\"},\"nonselection_glyph\":{\"id\":\"3598\"},\"view\":{\"id\":\"3601\"}},\"id\":\"3600\",\"type\":\"GlyphRenderer\"},{\"attributes\":{\"tools\":[{\"id\":\"3477\"},{\"id\":\"3478\"},{\"id\":\"3479\"},{\"id\":\"3480\"},{\"id\":\"3481\"},{\"id\":\"3482\"}]},\"id\":\"3484\",\"type\":\"Toolbar\"},{\"attributes\":{\"fill_alpha\":{\"value\":0.2},\"fill_color\":{\"value\":\"orange\"},\"hatch_alpha\":{\"value\":0.2},\"hatch_color\":{\"value\":\"orange\"},\"line_alpha\":{\"value\":0.2},\"line_color\":{\"value\":\"orange\"},\"size\":{\"value\":12},\"x\":{\"field\":\"Month\"},\"y\":{\"field\":\"Sutton North\"}},\"id\":\"3592\",\"type\":\"Circle\"},{\"attributes\":{\"line_alpha\":0.2,\"line_color\":\"orange\",\"line_width\":2,\"x\":{\"field\":\"Month\"},\"y\":{\"field\":\"Sutton North\"}},\"id\":\"3599\",\"type\":\"Line\"},{\"attributes\":{\"data\":{\"Month\":[\"Oct 21\",\"Nov 21\",\"Dec 21\",\"Jan 22\",\"Feb 22\",\"Mar 22\",\"Apr 22\",\"May 22\",\"Jun 22\",\"Jul 22\",\"Aug 22\",\"Sep 22\"],\"Sutton South\":[2,9,7,3,3,1,4,3,7,6,6,2]},\"selected\":{\"id\":\"3585\"},\"selection_policy\":{\"id\":\"3584\"}},\"id\":\"3559\",\"type\":\"ColumnDataSource\"},{\"attributes\":{\"label\":{\"value\":\"Sutton North\"},\"renderers\":[{\"id\":\"3600\"}]},\"id\":\"3627\",\"type\":\"LegendItem\"},{\"attributes\":{\"align\":\"center\",\"coordinates\":null,\"group\":null,\"text\":\"Trend of Burglary in \\n ['Sutton West & East Cheam', 'Sutton Central', 'Sutton South', 'Sutton North'] 2022\",\"text_font_size\":\"22px\"},\"id\":\"3505\",\"type\":\"Title\"},{\"attributes\":{\"coordinates\":null,\"formatter\":{\"id\":\"3511\"},\"group\":null,\"major_label_policy\":{\"id\":\"3512\"},\"ticker\":{\"id\":\"3471\"}},\"id\":\"3470\",\"type\":\"CategoricalAxis\"},{\"attributes\":{\"axis\":{\"id\":\"3473\"},\"coordinates\":null,\"dimension\":1,\"group\":null,\"ticker\":null},\"id\":\"3476\",\"type\":\"Grid\"},{\"attributes\":{\"line_alpha\":0.1,\"line_color\":\"orange\",\"line_width\":2,\"x\":{\"field\":\"Month\"},\"y\":{\"field\":\"Sutton North\"}},\"id\":\"3598\",\"type\":\"Line\"},{\"attributes\":{},\"id\":\"3623\",\"type\":\"Selection\"},{\"attributes\":{\"line_alpha\":0.1,\"line_color\":\"green\",\"line_width\":2,\"x\":{\"field\":\"Month\"},\"y\":{\"field\":\"Sutton South\"}},\"id\":\"3562\",\"type\":\"Line\"},{\"attributes\":{\"line_alpha\":0.2,\"line_color\":\"green\",\"line_width\":2,\"x\":{\"field\":\"Month\"},\"y\":{\"field\":\"Sutton South\"}},\"id\":\"3563\",\"type\":\"Line\"},{\"attributes\":{},\"id\":\"3622\",\"type\":\"UnionRenderers\"},{\"attributes\":{\"source\":{\"id\":\"3552\"}},\"id\":\"3558\",\"type\":\"CDSView\"},{\"attributes\":{\"source\":{\"id\":\"3559\"}},\"id\":\"3565\",\"type\":\"CDSView\"},{\"attributes\":{\"data\":{\"Month\":[\"Oct 21\",\"Nov 21\",\"Dec 21\",\"Jan 22\",\"Feb 22\",\"Mar 22\",\"Apr 22\",\"May 22\",\"Jun 22\",\"Jul 22\",\"Aug 22\",\"Sep 22\"],\"Sutton Central\":[6,4,5,6,6,3,5,5,6,11,14,12]},\"selected\":{\"id\":\"3549\"},\"selection_policy\":{\"id\":\"3548\"}},\"id\":\"3527\",\"type\":\"ColumnDataSource\"},{\"attributes\":{},\"id\":\"3583\",\"type\":\"Selection\"},{\"attributes\":{\"label\":{\"value\":\"Sutton South\"},\"renderers\":[{\"id\":\"3564\"}]},\"id\":\"3587\",\"type\":\"LegendItem\"},{\"attributes\":{\"source\":{\"id\":\"3498\"}},\"id\":\"3504\",\"type\":\"CDSView\"},{\"attributes\":{},\"id\":\"3582\",\"type\":\"UnionRenderers\"},{\"attributes\":{\"coordinates\":null,\"data_source\":{\"id\":\"3559\"},\"glyph\":{\"id\":\"3561\"},\"group\":null,\"hover_glyph\":null,\"muted_glyph\":{\"id\":\"3563\"},\"nonselection_glyph\":{\"id\":\"3562\"},\"view\":{\"id\":\"3565\"}},\"id\":\"3564\",\"type\":\"GlyphRenderer\"},{\"attributes\":{\"data\":{\"Month\":[\"Oct 21\",\"Nov 21\",\"Dec 21\",\"Jan 22\",\"Feb 22\",\"Mar 22\",\"Apr 22\",\"May 22\",\"Jun 22\",\"Jul 22\",\"Aug 22\",\"Sep 22\"],\"Sutton Central\":[6,4,5,6,6,3,5,5,6,11,14,12]},\"selected\":{\"id\":\"3547\"},\"selection_policy\":{\"id\":\"3546\"}},\"id\":\"3520\",\"type\":\"ColumnDataSource\"},{\"attributes\":{\"fill_alpha\":{\"value\":0.1},\"fill_color\":{\"value\":\"blue\"},\"hatch_alpha\":{\"value\":0.1},\"hatch_color\":{\"value\":\"blue\"},\"line_alpha\":{\"value\":0.1},\"line_color\":{\"value\":\"blue\"},\"size\":{\"value\":12},\"x\":{\"field\":\"Month\"},\"y\":{\"field\":\"Sutton Central\"}},\"id\":\"3523\",\"type\":\"Circle\"},{\"attributes\":{},\"id\":\"3624\",\"type\":\"UnionRenderers\"},{\"attributes\":{\"coordinates\":null,\"data_source\":{\"id\":\"3498\"},\"glyph\":{\"id\":\"3500\"},\"group\":null,\"hover_glyph\":null,\"muted_glyph\":{\"id\":\"3502\"},\"nonselection_glyph\":{\"id\":\"3501\"},\"view\":{\"id\":\"3504\"}},\"id\":\"3503\",\"type\":\"GlyphRenderer\"},{\"attributes\":{},\"id\":\"3625\",\"type\":\"Selection\"},{\"attributes\":{\"source\":{\"id\":\"3520\"}},\"id\":\"3526\",\"type\":\"CDSView\"},{\"attributes\":{\"source\":{\"id\":\"3491\"}},\"id\":\"3497\",\"type\":\"CDSView\"},{\"attributes\":{},\"id\":\"3584\",\"type\":\"UnionRenderers\"},{\"attributes\":{},\"id\":\"3585\",\"type\":\"Selection\"},{\"attributes\":{\"axis\":{\"id\":\"3470\"},\"coordinates\":null,\"group\":null,\"ticker\":null},\"id\":\"3472\",\"type\":\"Grid\"},{\"attributes\":{},\"id\":\"3464\",\"type\":\"DataRange1d\"},{\"attributes\":{\"line_alpha\":0.1,\"line_color\":\"red\",\"line_width\":2,\"x\":{\"field\":\"Month\"},\"y\":{\"field\":\"Sutton West & East Cheam\"}},\"id\":\"3501\",\"type\":\"Line\"},{\"attributes\":{\"coordinates\":null,\"group\":null,\"items\":[{\"id\":\"3519\"},{\"id\":\"3551\"},{\"id\":\"3587\"},{\"id\":\"3627\"}],\"label_text_font_size\":\"16pt\",\"location\":\"top_left\"},\"id\":\"3518\",\"type\":\"Legend\"},{\"attributes\":{\"line_alpha\":0.2,\"line_color\":\"red\",\"line_width\":2,\"x\":{\"field\":\"Month\"},\"y\":{\"field\":\"Sutton West & East Cheam\"}},\"id\":\"3502\",\"type\":\"Line\"},{\"attributes\":{},\"id\":\"3468\",\"type\":\"LinearScale\"},{\"attributes\":{},\"id\":\"3474\",\"type\":\"BasicTicker\"},{\"attributes\":{\"data\":{\"Month\":[\"Oct 21\",\"Nov 21\",\"Dec 21\",\"Jan 22\",\"Feb 22\",\"Mar 22\",\"Apr 22\",\"May 22\",\"Jun 22\",\"Jul 22\",\"Aug 22\",\"Sep 22\"],\"Sutton West & East Cheam\":[1,3,7,4,1,1,4,1,5,8,3,4]},\"selected\":{\"id\":\"3516\"},\"selection_policy\":{\"id\":\"3515\"}},\"id\":\"3498\",\"type\":\"ColumnDataSource\"},{\"attributes\":{},\"id\":\"3471\",\"type\":\"CategoricalTicker\"},{\"attributes\":{\"label\":{\"value\":\"Sutton West & East Cheam\"},\"renderers\":[{\"id\":\"3503\"}]},\"id\":\"3519\",\"type\":\"LegendItem\"},{\"attributes\":{\"line_color\":\"blue\",\"line_width\":2,\"x\":{\"field\":\"Month\"},\"y\":{\"field\":\"Sutton Central\"}},\"id\":\"3529\",\"type\":\"Line\"},{\"attributes\":{\"line_color\":\"red\",\"line_width\":2,\"x\":{\"field\":\"Month\"},\"y\":{\"field\":\"Sutton West & East Cheam\"}},\"id\":\"3500\",\"type\":\"Line\"},{\"attributes\":{},\"id\":\"3466\",\"type\":\"CategoricalScale\"}],\"root_ids\":[\"3461\"]},\"title\":\"Bokeh Application\",\"version\":\"2.4.1\"}};\n",
       "  const render_items = [{\"docid\":\"cadf1537-beb2-4fcb-bd40-e89aa2620bb3\",\"root_ids\":[\"3461\"],\"roots\":{\"3461\":\"fc67776f-36ea-4634-835d-769024133fd8\"}}];\n",
       "  root.Bokeh.embed.embed_items_notebook(docs_json, render_items);\n",
       "\n",
       "  }\n",
       "  if (root.Bokeh !== undefined) {\n",
       "    embed_document(root);\n",
       "  } else {\n",
       "    let attempts = 0;\n",
       "    const timer = setInterval(function(root) {\n",
       "      if (root.Bokeh !== undefined) {\n",
       "        clearInterval(timer);\n",
       "        embed_document(root);\n",
       "      } else {\n",
       "        attempts++;\n",
       "        if (attempts > 100) {\n",
       "          clearInterval(timer);\n",
       "          console.log(\"Bokeh: ERROR: Unable to run BokehJS code because BokehJS library is missing\");\n",
       "        }\n",
       "      }\n",
       "    }, 10, root)\n",
       "  }\n",
       "})(window);"
      ],
      "application/vnd.bokehjs_exec.v0+json": ""
     },
     "metadata": {
      "application/vnd.bokehjs_exec.v0+json": {
       "id": "3461"
      }
     },
     "output_type": "display_data"
    }
   ],
   "source": [
    "# Ask user for their interested neighborhood\n",
    "num_int = int(input(f'How many neighborhoods are you interested (1-6)?'))\n",
    "\n",
    "# Tell Bokeh that values of x-ticks are categorical\n",
    "p = figure(x_range=data.index.values, plot_height=600, plot_width=900) \n",
    "c = ['red', 'blue', 'green', 'orange', 'black', 'purple']\n",
    "\n",
    "nb_chosen = [] # a list for chosen neighborhoods' name\n",
    "for i in range(num_int):\n",
    "    \n",
    "    nb_int = input(f'Please choose one of the neighborhoods from below: \\n {nb}')\n",
    "    nb_chosen.append(nb_int)\n",
    "    \n",
    "    trend = data.loc[:, [nb_int]]\n",
    "    p.circle(x='Month', y=nb_int, source=trend, size=12, color=c[i])\n",
    "    p.line(x='Month', y=nb_int, source=trend, width=2, color=c[i], legend_label=nb_int)\n",
    "\n",
    "p.title.text = f'Trend of Burglary in \\n {nb_chosen} 2022'\n",
    "p.title.align = 'center'\n",
    "p.title.text_font_size = \"22px\"\n",
    "\n",
    "p.legend.label_text_font_size = \"16pt\"\n",
    "p.legend.location = 'top_left'\n",
    "\n",
    "show(p)"
   ]
  }
 ],
 "metadata": {
  "kernelspec": {
   "display_name": "Python 3 (ipykernel)",
   "language": "python",
   "name": "python3"
  },
  "language_info": {
   "codemirror_mode": {
    "name": "ipython",
    "version": 3
   },
   "file_extension": ".py",
   "mimetype": "text/x-python",
   "name": "python",
   "nbconvert_exporter": "python",
   "pygments_lexer": "ipython3",
   "version": "3.9.7"
  }
 },
 "nbformat": 4,
 "nbformat_minor": 5
}
