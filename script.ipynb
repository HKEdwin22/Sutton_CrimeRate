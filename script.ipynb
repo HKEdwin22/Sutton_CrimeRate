{
 "cells": [
  {
   "cell_type": "markdown",
   "id": "59cb1bb5",
   "metadata": {},
   "source": [
    "# Task 1\n",
    "We use the data from Metropolitican Police to visualise crime rate in Sutton and its neighborhood.\n",
    "\n",
    "## Flow\n",
    "1. Import Libraries <br>\n",
    "2. Import raw data <br>\n",
    "3. Extract data in concern <br>\n",
    "4. Plot a pie chart with online code <br>\n",
    "5. Amend the chart"
   ]
  },
  {
   "cell_type": "code",
   "execution_count": 1,
   "id": "35d877b2",
   "metadata": {},
   "outputs": [],
   "source": [
    "# Import Libraries\n",
    "from math import pi\n",
    "import pandas as pd\n",
    "from bokeh.palettes import Turbo256 # RGB colors\n",
    "from bokeh.plotting import figure, show # embed all elements of a graph\n",
    "from bokeh.transform import cumsum # not yet known"
   ]
  },
  {
   "cell_type": "code",
   "execution_count": 2,
   "id": "84d72d2f",
   "metadata": {},
   "outputs": [],
   "source": [
    "# Import raw data\n",
    "df = pd.read_excel(r'./Raw Data.xlsx')"
   ]
  },
  {
   "cell_type": "code",
   "execution_count": 3,
   "id": "fbe90497",
   "metadata": {},
   "outputs": [],
   "source": [
    "# Extract data in concern\n",
    "data4plot = df.loc[:19, ['Neighborhood', 'Total']]\n",
    "x = data4plot['Total']"
   ]
  },
  {
   "cell_type": "markdown",
   "id": "a426eaba",
   "metadata": {},
   "source": [
    "## Basic of the chart"
   ]
  },
  {
   "cell_type": "code",
   "execution_count": 4,
   "id": "789964b3",
   "metadata": {},
   "outputs": [],
   "source": [
    "data4plot['angle'] = data4plot['Total']/data4plot['Total'].sum() * 2*pi\n",
    "c = [Turbo256[i*10] for i in range(len(x))]\n",
    "data4plot['color'] = pd.DataFrame(c)"
   ]
  },
  {
   "cell_type": "markdown",
   "id": "b106c268",
   "metadata": {},
   "source": [
    "## Pie Chart 1"
   ]
  },
  {
   "cell_type": "code",
   "execution_count": 5,
   "id": "6d88b03e",
   "metadata": {},
   "outputs": [],
   "source": [
    "# Plot a pie chart\n",
    "p = figure(title=\"Number of Burglary among Sutton Neighborhoods\", toolbar_location=None,\n",
    "           tools=\"hover\", tooltips=\"@Neighborhood: @Total\", plot_height=525, plot_width=700, x_range=(-0.57, 1.2))\n",
    "\n",
    "p.wedge(x=0, y=1, radius=0.5,\n",
    "        start_angle=cumsum('angle', include_zero=True), end_angle=cumsum('angle'),\n",
    "        line_color=\"white\", fill_color='color', legend_field='Neighborhood', source=data4plot)\n",
    "\n",
    "p.axis.axis_label = None\n",
    "p.axis.visible = False\n",
    "p.grid.grid_line_color = None\n",
    "\n",
    "show(p)"
   ]
  },
  {
   "cell_type": "markdown",
   "id": "0494b482",
   "metadata": {},
   "source": [
    "## Pie Char 2"
   ]
  },
  {
   "cell_type": "code",
   "execution_count": 6,
   "id": "85e00cff",
   "metadata": {},
   "outputs": [],
   "source": [
    "# Plot a pie chart\n",
    "p = figure(toolbar_location=None, tools=\"hover\", tooltips=\"@Neighborhood: @Total\", \n",
    "           plot_height=540, plot_width=700, x_range=(-0.57, 1.2))\n",
    "\n",
    "p.title.text = \"Number of Burglary among Sutton Neighborhoods\"\n",
    "p.title.align = 'center'\n",
    "p.title.text_font_size = \"22px\"\n",
    "\n",
    "p.wedge(x=0, y=1, radius=0.5,\n",
    "        start_angle=cumsum('angle', include_zero=True), end_angle=cumsum('angle'),\n",
    "        line_color=\"white\", fill_color='color', legend_field='Neighborhood', source=data4plot)\n",
    "\n",
    "p.axis.axis_label = None\n",
    "p.axis.visible = False\n",
    "p.grid.grid_line_color = None\n",
    "\n",
    "show(p)"
   ]
  },
  {
   "cell_type": "markdown",
   "id": "7f8393e7",
   "metadata": {},
   "source": [
    "## Conclusions\n",
    "Our chart shows that the number of burglary was distributed uniformly among Sutton's neighborhood.\n",
    "\n",
    "# Task 2\n",
    "Now, let see if there are trends on the number in each neighborhood.\n",
    "\n",
    "## Flow\n",
    "1. Extract data\n",
    "2. Plot line chart with online code\n",
    "3. Amend the chart"
   ]
  },
  {
   "cell_type": "markdown",
   "id": "065acf9b",
   "metadata": {},
   "source": [
    "### Amend the dataset into our needs\n",
    "1. Remove unuse data and swap the set\n",
    "2. Add the column of months and set it as the new row-index\n",
    "3. Set the column-index as the neighborhoods' name"
   ]
  },
  {
   "cell_type": "code",
   "execution_count": 3,
   "id": "73a14484",
   "metadata": {},
   "outputs": [],
   "source": [
    "# Drop the last column and row, then swap the dataset\n",
    "data = df.drop(columns=['Total']).loc[:19, :].T\n",
    "\n",
    "# Add a column \"Month\" to the dataset\n",
    "month = ['Month','Oct 21', 'Nov 21', 'Dec 21', 'Jan 22', 'Feb 22', 'Mar 22', \n",
    "         'Apr 22', 'May 22', 'Jun 22', 'Jul 22', 'Aug 22', 'Sep 22']\n",
    "data['Month'] = month\n",
    "\n",
    "# Set column 'Month' as new rows' index\n",
    "data = data.set_index('Month')\n",
    "\n",
    "# Set neighborhoods' name as the new column-index\n",
    "'''data.iloc[0] calls the 1st row data.index[0] calls the index of the 1st row'''\n",
    "data = data.rename(columns=data.iloc[0]).drop(data.index[0])"
   ]
  },
  {
   "cell_type": "markdown",
   "id": "136bffa4",
   "metadata": {},
   "source": [
    "### Extract the data of each neighborhood and plot them on the same canvas"
   ]
  },
  {
   "cell_type": "code",
   "execution_count": 5,
   "id": "abe1e381",
   "metadata": {},
   "outputs": [],
   "source": [
    "# Extract neighborhoods' name and save them as a list\n",
    "nb = df['Neighborhood'].to_list()\n",
    "nb = nb[0:len(nb)-1]"
   ]
  },
  {
   "cell_type": "code",
   "execution_count": 4,
   "id": "7d2df1f8",
   "metadata": {},
   "outputs": [
    {
     "name": "stdout",
     "output_type": "stream",
     "text": [
      "Please choose one of the neighborhoods from below: \n",
      " ['Beddington', 'Belmont', 'Carshalton Central', 'Sarshalton South & Clockhouse', 'Cheam', 'Hackbridge', 'North Cheam', 'South Beddington & Roundshaw', 'St. Heiler East', 'St. Heiler West', 'Stonecot', 'Sutton Central', 'Sutton North', 'Sutton South', 'Sutton West & East Cheam', 'The Wrythe', 'Waillington North', 'Wallington South', 'Worcester Park North', 'Worcester Park South']Belmont\n"
     ]
    }
   ],
   "source": [
    "# Ask user for their interested neighborhood\n",
    "nb_int = input(f'Please choose one of the neighborhoods from below: \\n {nb}')\n",
    "\n",
    "p = figure(x_range=data.index.values, plot_height=900, plot_width=1800) # Tell Bokeh that values of x-ticks are categorical\n",
    "\n",
    "p.title.text = f'Trend of Burglary among {nb_int} 2022'\n",
    "p.title.align = 'center'\n",
    "p.title.text_font_size = \"22px\"\n",
    "\n",
    "# Extrace data of concern\n",
    "trend = data.loc[:, [nb_int]]\n",
    "p.circle(x='Month', y=nb_int, source=trend, size=12, color='red')\n",
    "p.line(x='Month', y=nb_int, source=trend, width=2, color='black')\n",
    "\n",
    "show(p)"
   ]
  },
  {
   "cell_type": "markdown",
   "id": "504bd14f",
   "metadata": {},
   "source": [
    "### Comparisons between neighborhoods\n",
    "1. Ask user's interest\n",
    "2. Plot the data one by one\n",
    "3. Show the chart at once"
   ]
  },
  {
   "cell_type": "code",
   "execution_count": 14,
   "id": "0e14366c",
   "metadata": {},
   "outputs": [
    {
     "name": "stdout",
     "output_type": "stream",
     "text": [
      "How many neighborhoods are you interested (1-6)?3\n",
      "Please choose one of the neighborhoods from below: \n",
      " ['Beddington', 'Belmont', 'Carshalton Central', 'Sarshalton South & Clockhouse', 'Cheam', 'Hackbridge', 'North Cheam', 'South Beddington & Roundshaw', 'St. Heiler East', 'St. Heiler West', 'Stonecot', 'Sutton Central', 'Sutton North', 'Sutton South', 'Sutton West & East Cheam', 'The Wrythe', 'Waillington North', 'Wallington South', 'Worcester Park North', 'Worcester Park South']Sutton Central\n",
      "Please choose one of the neighborhoods from below: \n",
      " ['Beddington', 'Belmont', 'Carshalton Central', 'Sarshalton South & Clockhouse', 'Cheam', 'Hackbridge', 'North Cheam', 'South Beddington & Roundshaw', 'St. Heiler East', 'St. Heiler West', 'Stonecot', 'Sutton Central', 'Sutton North', 'Sutton South', 'Sutton West & East Cheam', 'The Wrythe', 'Waillington North', 'Wallington South', 'Worcester Park North', 'Worcester Park South']Sutton South\n",
      "Please choose one of the neighborhoods from below: \n",
      " ['Beddington', 'Belmont', 'Carshalton Central', 'Sarshalton South & Clockhouse', 'Cheam', 'Hackbridge', 'North Cheam', 'South Beddington & Roundshaw', 'St. Heiler East', 'St. Heiler West', 'Stonecot', 'Sutton Central', 'Sutton North', 'Sutton South', 'Sutton West & East Cheam', 'The Wrythe', 'Waillington North', 'Wallington South', 'Worcester Park North', 'Worcester Park South']Sutton West & East Cheam\n"
     ]
    }
   ],
   "source": [
    "# Ask user for their interested neighborhood\n",
    "num_int = int(input(f'How many neighborhoods are you interested (1-6)?'))\n",
    "\n",
    "# Tell Bokeh that values of x-ticks are categorical\n",
    "p = figure(x_range=data.index.values, plot_height=900, plot_width=1800) \n",
    "c = ['red', 'blue', 'green', 'orange', 'black', 'purple']\n",
    "\n",
    "nb_chosen = [] # a list for chosen neighborhoods' name\n",
    "for i in range(num_int):\n",
    "    \n",
    "    nb_int = input(f'Please choose one of the neighborhoods from below: \\n {nb}')\n",
    "    nb_chosen.append(nb_int)\n",
    "    \n",
    "    trend = data.loc[:, [nb_int]]\n",
    "    p.circle(x='Month', y=nb_int, source=trend, size=12, color=c[i])\n",
    "    p.line(x='Month', y=nb_int, source=trend, width=2, color=c[i], legend_label=nb_int)\n",
    "\n",
    "p.title.text = f'Trend of Burglary in {nb_chosen} 2022'\n",
    "p.title.align = 'center'\n",
    "p.title.text_font_size = \"22px\"\n",
    "\n",
    "p.legend.label_text_font_size = \"16pt\"\n",
    "\n",
    "show(p)"
   ]
  }
 ],
 "metadata": {
  "kernelspec": {
   "display_name": "Python 3 (ipykernel)",
   "language": "python",
   "name": "python3"
  },
  "language_info": {
   "codemirror_mode": {
    "name": "ipython",
    "version": 3
   },
   "file_extension": ".py",
   "mimetype": "text/x-python",
   "name": "python",
   "nbconvert_exporter": "python",
   "pygments_lexer": "ipython3",
   "version": "3.9.7"
  }
 },
 "nbformat": 4,
 "nbformat_minor": 5
}
